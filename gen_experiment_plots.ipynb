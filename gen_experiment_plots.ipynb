{
 "cells": [
  {
   "cell_type": "code",
   "execution_count": null,
   "metadata": {},
   "outputs": [],
   "source": [
    "%load_ext autoreload\n",
    "%autoreload 2"
   ]
  },
  {
   "cell_type": "code",
   "execution_count": null,
   "metadata": {},
   "outputs": [],
   "source": [
    "import matplotlib.pyplot as plt\n",
    "import os\n",
    "import json\n",
    "from glob import glob\n",
    "\n",
    "import tensorflow as tf\n",
    "from tensorflow.python.profiler.model_analyzer import profile\n",
    "from tensorflow.python.profiler.option_builder import ProfileOptionBuilder\n",
    "\n",
    "import ptflops\n",
    "import torch"
   ]
  },
  {
   "cell_type": "code",
   "execution_count": null,
   "metadata": {},
   "outputs": [],
   "source": [
    "BASE_EXP_PATH = \"evalPaper/experiments\""
   ]
  },
  {
   "cell_type": "code",
   "execution_count": null,
   "metadata": {},
   "outputs": [],
   "source": [
    "def get_keras_flops(model):\n",
    "    forward_pass = tf.function(model.call, input_signature=[tf.TensorSpec(shape=(1,) + model.input_shape[1:])])\n",
    "    graph_info = profile(forward_pass.get_concrete_function().graph, options=ProfileOptionBuilder.float_operation())\n",
    "    flops = graph_info.total_float_ops\n",
    "    return flops"
   ]
  },
  {
   "cell_type": "code",
   "execution_count": null,
   "metadata": {},
   "outputs": [],
   "source": [
    "input_shape_map = {\n",
    "    \"skodar\": (1, 64, 30)\n",
    "}\n",
    "\n",
    "\n",
    "def get_experiment_data(model = None, dataset = None):\n",
    "    subdirs = [d for d in os.listdir(BASE_EXP_PATH) if os.path.isdir(os.path.join(BASE_EXP_PATH, d))]\n",
    "    subdirs = [os.path.join(BASE_EXP_PATH, d) for d in subdirs]\n",
    "\n",
    "    all_exps = []\n",
    "    for subdir in subdirs:\n",
    "        with open(os.path.join(subdir, \"args.json\"), \"r\") as f:\n",
    "            args = json.load(f)\n",
    "            exp_subdirs = [d for d in os.listdir(subdir) if os.path.isdir(os.path.join(subdir, d))]\n",
    "            args[\"experiments\"] = []\n",
    "            for exp_subdir in exp_subdirs:\n",
    "                with open(os.path.join(subdir, exp_subdir, \"result.json\"), \"r\") as f:\n",
    "                    results = json.load(f)\n",
    "\n",
    "                base_path = os.path.join(subdir, exp_subdir, \"model*.\")\n",
    "                model_files = glob(base_path + \"h5\") + glob(base_path + \"pth\")\n",
    "                assert len(model_files) == 1\n",
    "                model_file = model_files[0]\n",
    "\n",
    "\n",
    "                if model_file.endswith(\".h5\"):\n",
    "                    pass\n",
    "                    keras_model = tf.keras.models.load_model(model_file)\n",
    "                    keras_flops = get_keras_flops(keras_model)\n",
    "                    results[\"flops\"] = keras_flops\n",
    "                    print(\"KERAS_FLOPS\", keras_flops)\n",
    "\n",
    "                if model_file.endswith(\".pth\"):\n",
    "                    # Load pytorch file:\n",
    "                    torch_model = torch.load(model_file)\n",
    "                    torch_input_shape = input_shape_map[args[\"dataset\"]]\n",
    "                    results[\"flops\"] = float(ptflops.get_model_complexity_info(torch_model, torch_input_shape, verbose=True, flops_units=\"KMac\")[0].split(\" \")[0\n",
    "                    ]) * 1000\n",
    "                args[\"experiments\"].append(results)\n",
    "            all_exps.append(args)\n",
    "\n",
    "    if model is not None:\n",
    "        all_exps = [exp for exp in all_exps if exp[\"model\"] == model]\n",
    "\n",
    "    if dataset is not None:\n",
    "        all_exps = [exp for exp in all_exps if exp[\"dataset\"] == dataset]\n",
    "\n",
    "    return all_exps"
   ]
  },
  {
   "cell_type": "code",
   "execution_count": null,
   "metadata": {},
   "outputs": [],
   "source": [
    "exps = get_experiment_data(None, None)\n",
    "print(exps)\n",
    "# acc_vali = exps[0][\"experiments\"][0][\"eval\"][\"acc_vali\"]\n",
    "# print(acc_vali)"
   ]
  },
  {
   "cell_type": "code",
   "execution_count": 203,
   "metadata": {},
   "outputs": [
    {
     "name": "stdout",
     "output_type": "stream",
     "text": [
      "fftmixer skodar\n",
      "984610.0\n",
      "micronas skodar\n",
      "16449330\n",
      "37720626\n",
      "23044914\n",
      "14532658\n",
      "33334322\n",
      "9679410\n",
      "21229490\n",
      "60008242\n",
      "21131570\n",
      "64337714\n",
      "48361650\n",
      "50676274\n",
      "38586162\n",
      "33402290\n",
      "17219506\n",
      "32205106\n",
      "44183986\n",
      "44904754\n",
      "23428146\n",
      "48643122\n",
      "tinyhar skodar\n",
      "9044540.0\n"
     ]
    }
   ],
   "source": [
    "for exp in exps:\n",
    "    print(exp[\"model\"], exp[\"dataset\"])\n",
    "    for e in exp[\"experiments\"]:\n",
    "        print(e[\"flops\"])"
   ]
  }
 ],
 "metadata": {
  "kernelspec": {
   "display_name": "micronas",
   "language": "python",
   "name": "python3"
  },
  "language_info": {
   "codemirror_mode": {
    "name": "ipython",
    "version": 3
   },
   "file_extension": ".py",
   "mimetype": "text/x-python",
   "name": "python",
   "nbconvert_exporter": "python",
   "pygments_lexer": "ipython3",
   "version": "3.12.4"
  }
 },
 "nbformat": 4,
 "nbformat_minor": 2
}
