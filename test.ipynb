{
 "cells": [
  {
   "cell_type": "code",
   "execution_count": 1,
   "metadata": {},
   "outputs": [
    {
     "ename": "IndentationError",
     "evalue": "expected an indented block after function definition on line 60 (main.py, line 61)",
     "output_type": "error",
     "traceback": [
      "Traceback \u001b[0;36m(most recent call last)\u001b[0m:\n",
      "\u001b[0m  File \u001b[1;32m~/anaconda3/envs/micronas/lib/python3.12/site-packages/IPython/core/interactiveshell.py:3577\u001b[0m in \u001b[1;35mrun_code\u001b[0m\n    exec(code_obj, self.user_global_ns, self.user_ns)\u001b[0m\n",
      "\u001b[0m  Cell \u001b[1;32mIn[1], line 5\u001b[0m\n    from micronas.main import search\u001b[0m\n",
      "\u001b[0;36m  File \u001b[0;32m~/Github/MicroNas/micronas/__init__.py:6\u001b[0;36m\n\u001b[0;31m    from micronas.main import MicroNas\u001b[0;36m\n",
      "\u001b[0;36m  File \u001b[0;32m~/Github/MicroNas/micronas/main.py:61\u001b[0;36m\u001b[0m\n\u001b[0;31m    \u001b[0m\n\u001b[0m    ^\u001b[0m\n\u001b[0;31mIndentationError\u001b[0m\u001b[0;31m:\u001b[0m expected an indented block after function definition on line 60\n"
     ]
    }
   ],
   "source": [
    "%load_ext autoreload\n",
    "%autoreload 2"
   ]
  },
  {
   "cell_type": "code",
   "execution_count": null,
   "metadata": {},
   "outputs": [],
   "source": [
    "from micronas.main import search\n",
    "from micronas.Utils.dataloader  import get_dataloaders, loadDataset"
   ]
  },
  {
   "cell_type": "code",
   "execution_count": null,
   "metadata": {},
   "outputs": [
    {
     "name": "stdout",
     "output_type": "stream",
     "text": [
      " ----------------------- load all the data -------------------\n",
      "----------------------- Get the Sliding Window -------------------\n",
      "[0, 0, 0, 0, 0, 0, 0, 0, 0, 0]\n",
      "The orginal class weights are :  [0.8526 0.728  0.7588 1.0694 1.7784 1.8953 0.9943 0.9062 0.7734 1.4115]\n",
      "================ FOCV Mode ====================\n",
      "================ 5 CV ======================\n",
      "Overlapping random Experiment : The 0 Part as the test\n",
      "The class weights are :  [0.8571 0.7403 0.7643 1.0437 1.7788 1.8319 0.9867 0.8959 0.7818 1.4305]\n",
      "Train data number :  6137\n",
      "The number of classes is :  10\n",
      "The input_length  is :  64\n",
      "The channel_in is :  30\n",
      "Test data number :  1614\n",
      "Validation data number :  323\n",
      "Data_shape:  torch.Size([32, 64, 30])\n"
     ]
    }
   ],
   "source": [
    "ucihar_train, ucihar_vali, ucihar_test = loadDataset(data_name=\"skodar\")\n",
    "num_classes = ucihar_train.nb_classes\n",
    "train_data_loader, vali_data_loader, test_data_loader, num_classes = get_dataloaders(ucihar_train, ucihar_vali, ucihar_test, num_classes, keras=False)\n"
   ]
  },
  {
   "cell_type": "code",
   "execution_count": null,
   "metadata": {},
   "outputs": [
    {
     "ename": "TypeError",
     "evalue": "search() got multiple values for argument 'callback'",
     "output_type": "error",
     "traceback": [
      "\u001b[0;31m---------------------------------------------------------------------------\u001b[0m",
      "\u001b[0;31mTypeError\u001b[0m                                 Traceback (most recent call last)",
      "\u001b[1;32m/Users/king/Github/MicroNas/test.ipynb Cell 3\u001b[0m line \u001b[0;36m9\n\u001b[1;32m      <a href='vscode-notebook-cell:/Users/king/Github/MicroNas/test.ipynb#W2sZmlsZQ%3D%3D?line=5'>6</a>\u001b[0m \u001b[39mdef\u001b[39;00m \u001b[39mprint_progress\u001b[39m(progress):\n\u001b[1;32m      <a href='vscode-notebook-cell:/Users/king/Github/MicroNas/test.ipynb#W2sZmlsZQ%3D%3D?line=6'>7</a>\u001b[0m     \u001b[39mprint\u001b[39m(\u001b[39m\"\u001b[39m\u001b[39mprogress: \u001b[39m\u001b[39m\"\u001b[39m, progress)\n\u001b[0;32m----> <a href='vscode-notebook-cell:/Users/king/Github/MicroNas/test.ipynb#W2sZmlsZQ%3D%3D?line=8'>9</a>\u001b[0m search(train_data_loader, vali_data_loader, test_data_loader, num_classes, config, latency_limit, memory_limit, callback\u001b[39m=\u001b[39;49mprint_progress)\n",
      "\u001b[0;31mTypeError\u001b[0m: search() got multiple values for argument 'callback'"
     ]
    }
   ],
   "source": [
    "config = {\"train_epochs\": 100}\n",
    "\n",
    "latency_limit = None\n",
    "memory_limit = None\n",
    "\n",
    "def print_progress(progress):\n",
    "    print(\"progress: \", progress)\n",
    "\n",
    "search(train_data_loader, vali_data_loader, num_classes, config, latency_limit, memory_limit, callback=print_progress)"
   ]
  }
 ],
 "metadata": {
  "kernelspec": {
   "display_name": "micronas",
   "language": "python",
   "name": "python3"
  },
  "language_info": {
   "codemirror_mode": {
    "name": "ipython",
    "version": 3
   },
   "file_extension": ".py",
   "mimetype": "text/x-python",
   "name": "python",
   "nbconvert_exporter": "python",
   "pygments_lexer": "ipython3",
   "version": "3.12.4"
  },
  "orig_nbformat": 4
 },
 "nbformat": 4,
 "nbformat_minor": 2
}
