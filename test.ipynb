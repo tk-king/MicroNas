{
 "cells": [
  {
   "cell_type": "code",
   "execution_count": 3,
   "metadata": {},
   "outputs": [
    {
     "name": "stdout",
     "output_type": "stream",
     "text": [
      "The autoreload extension is already loaded. To reload it, use:\n",
      "  %reload_ext autoreload\n"
     ]
    }
   ],
   "source": [
    "%load_ext autoreload\n",
    "%autoreload 2"
   ]
  },
  {
   "cell_type": "code",
   "execution_count": 4,
   "metadata": {},
   "outputs": [
    {
     "name": "stdout",
     "output_type": "stream",
     "text": [
      "Profiler set for device MicroNasMCU.NiclaSense\n",
      "[]\n",
      "Loaded LatencyPredictor with 0 samples\n"
     ]
    },
    {
     "ename": "ImportError",
     "evalue": "cannot import name 'search' from 'micronas.main' (/Users/king/Github/MicroNas/micronas/main.py)",
     "output_type": "error",
     "traceback": [
      "\u001b[0;31m---------------------------------------------------------------------------\u001b[0m",
      "\u001b[0;31mImportError\u001b[0m                               Traceback (most recent call last)",
      "Cell \u001b[0;32mIn[4], line 1\u001b[0m\n\u001b[0;32m----> 1\u001b[0m \u001b[38;5;28;01mfrom\u001b[39;00m \u001b[38;5;21;01mmicronas\u001b[39;00m\u001b[38;5;21;01m.\u001b[39;00m\u001b[38;5;21;01mmain\u001b[39;00m \u001b[38;5;28;01mimport\u001b[39;00m search\n\u001b[1;32m      2\u001b[0m \u001b[38;5;28;01mfrom\u001b[39;00m \u001b[38;5;21;01mmicronas\u001b[39;00m\u001b[38;5;21;01m.\u001b[39;00m\u001b[38;5;21;01mUtils\u001b[39;00m\u001b[38;5;21;01m.\u001b[39;00m\u001b[38;5;21;01mdataloader\u001b[39;00m  \u001b[38;5;28;01mimport\u001b[39;00m get_dataloaders, loadDataset\n",
      "\u001b[0;31mImportError\u001b[0m: cannot import name 'search' from 'micronas.main' (/Users/king/Github/MicroNas/micronas/main.py)"
     ]
    }
   ],
   "source": [
    "from micronas.main import search\n",
    "from micronas.Utils.dataloader  import get_dataloaders, loadDataset"
   ]
  },
  {
   "cell_type": "code",
   "execution_count": null,
   "metadata": {},
   "outputs": [
    {
     "name": "stdout",
     "output_type": "stream",
     "text": [
      " ----------------------- load all the data -------------------\n",
      "----------------------- Get the Sliding Window -------------------\n",
      "[0, 0, 0, 0, 0, 0, 0, 0, 0, 0]\n",
      "The orginal class weights are :  [0.8526 0.728  0.7588 1.0694 1.7784 1.8953 0.9943 0.9062 0.7734 1.4115]\n",
      "================ FOCV Mode ====================\n",
      "================ 5 CV ======================\n",
      "Overlapping random Experiment : The 0 Part as the test\n",
      "The class weights are :  [0.8571 0.7403 0.7643 1.0437 1.7788 1.8319 0.9867 0.8959 0.7818 1.4305]\n",
      "Train data number :  6137\n",
      "The number of classes is :  10\n",
      "The input_length  is :  64\n",
      "The channel_in is :  30\n",
      "Test data number :  1614\n",
      "Validation data number :  323\n",
      "Data_shape:  torch.Size([32, 64, 30])\n"
     ]
    }
   ],
   "source": [
    "ucihar_train, ucihar_vali, ucihar_test = loadDataset(data_name=\"skodar\")\n",
    "num_classes = ucihar_train.nb_classes\n",
    "train_data_loader, vali_data_loader, test_data_loader, num_classes = get_dataloaders(ucihar_train, ucihar_vali, ucihar_test, num_classes, keras=False)\n"
   ]
  },
  {
   "cell_type": "code",
   "execution_count": null,
   "metadata": {},
   "outputs": [
    {
     "ename": "TypeError",
     "evalue": "search() got multiple values for argument 'callback'",
     "output_type": "error",
     "traceback": [
      "\u001b[0;31m---------------------------------------------------------------------------\u001b[0m",
      "\u001b[0;31mTypeError\u001b[0m                                 Traceback (most recent call last)",
      "\u001b[1;32m/Users/king/Github/MicroNas/test.ipynb Cell 3\u001b[0m line \u001b[0;36m9\n\u001b[1;32m      <a href='vscode-notebook-cell:/Users/king/Github/MicroNas/test.ipynb#W2sZmlsZQ%3D%3D?line=5'>6</a>\u001b[0m \u001b[39mdef\u001b[39;00m \u001b[39mprint_progress\u001b[39m(progress):\n\u001b[1;32m      <a href='vscode-notebook-cell:/Users/king/Github/MicroNas/test.ipynb#W2sZmlsZQ%3D%3D?line=6'>7</a>\u001b[0m     \u001b[39mprint\u001b[39m(\u001b[39m\"\u001b[39m\u001b[39mprogress: \u001b[39m\u001b[39m\"\u001b[39m, progress)\n\u001b[0;32m----> <a href='vscode-notebook-cell:/Users/king/Github/MicroNas/test.ipynb#W2sZmlsZQ%3D%3D?line=8'>9</a>\u001b[0m search(train_data_loader, vali_data_loader, test_data_loader, num_classes, config, latency_limit, memory_limit, callback\u001b[39m=\u001b[39;49mprint_progress)\n",
      "\u001b[0;31mTypeError\u001b[0m: search() got multiple values for argument 'callback'"
     ]
    }
   ],
   "source": [
    "config = {\"train_epochs\": 100}\n",
    "\n",
    "latency_limit = None\n",
    "memory_limit = None\n",
    "\n",
    "def print_progress(progress):\n",
    "    print(\"progress: \", progress)\n",
    "\n",
    "search(train_data_loader, vali_data_loader, num_classes, config, latency_limit, memory_limit, callback=print_progress)"
   ]
  }
 ],
 "metadata": {
  "kernelspec": {
   "display_name": "micronas",
   "language": "python",
   "name": "python3"
  },
  "language_info": {
   "codemirror_mode": {
    "name": "ipython",
    "version": 3
   },
   "file_extension": ".py",
   "mimetype": "text/x-python",
   "name": "python",
   "nbconvert_exporter": "python",
   "pygments_lexer": "ipython3",
   "version": "3.12.4"
  },
  "orig_nbformat": 4
 },
 "nbformat": 4,
 "nbformat_minor": 2
}
