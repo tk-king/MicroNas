{
 "cells": [
  {
   "cell_type": "code",
   "execution_count": 6,
   "id": "c0c24d57-3c00-4dde-899c-18abc18bf500",
   "metadata": {
    "tags": []
   },
   "outputs": [],
   "source": [
    "import numpy as np\n",
    "\n",
    "\n",
    "all_transformations_dict = {\"jitter\":{\"sigma\":0.1}}\n",
    "\n",
    "x = np.ones((1,128,6))\n",
    "def jitter(x: np.ndarray, sigma: float = 0.5):\n",
    "    \"\"\"\n",
    "    input x shape should be [Batch, Seq_length, Channel]  or [Seq_length, Channel]\n",
    "\n",
    "    \"\"\"\n",
    "    if len(x.shape)==2:\n",
    "        x = np.expand_dims(x, axis=0)\n",
    "    batch = x.shape[0]\n",
    "    seq_l = x.shape[1]\n",
    "    sensr = x.shape[2]\n",
    "\n",
    "    \n",
    "    var_random = np.random.uniform(0,sigma,(batch,sensr))\n",
    "\n",
    "\n",
    "    ret = np.zeros_like(x)\n",
    "\n",
    "    for i in range(batch):\n",
    "        for j in range(sensr):\n",
    "            ret[i,:,j] = x[i,:,j] + np.random.normal( loc=0.0, scale=var_random[i,j], size=seq_l )\n",
    "\n",
    "    return ret"
   ]
  },
  {
   "cell_type": "code",
   "execution_count": 13,
   "id": "647fdd6b-34c1-4d41-8d5c-d6d65d52bc4d",
   "metadata": {
    "tags": []
   },
   "outputs": [],
   "source": [
    "import yaml\n",
    "\n",
    "a  = yaml.safe_load(\"configs/model.yaml\")"
   ]
  },
  {
   "cell_type": "code",
   "execution_count": 27,
   "id": "b6f44ecb-4849-4dde-80e1-c09b4279aee7",
   "metadata": {
    "tags": []
   },
   "outputs": [],
   "source": [
    "config_file = open('configs/random_aug_jitter_0_05.yaml', mode='r')\n",
    "config = yaml.load(config_file, Loader=yaml.FullLoader)#[\"tinyhar\"]"
   ]
  },
  {
   "cell_type": "code",
   "execution_count": 28,
   "id": "6f900d68-7d7d-4ff4-aab0-5a2f4e5329b7",
   "metadata": {
    "tags": []
   },
   "outputs": [
    {
     "data": {
      "text/plain": [
       "{'jitter_1': {'sigma': 0.05}}"
      ]
     },
     "execution_count": 28,
     "metadata": {},
     "output_type": "execute_result"
    }
   ],
   "source": [
    "config"
   ]
  },
  {
   "cell_type": "code",
   "execution_count": null,
   "id": "83f5c5f2-2358-45bd-9610-e54f7e1d53c4",
   "metadata": {},
   "outputs": [],
   "source": [
    "aug_config"
   ]
  }
 ],
 "metadata": {
  "kernelspec": {
   "display_name": "iswc23",
   "language": "python",
   "name": "iswc23"
  },
  "language_info": {
   "codemirror_mode": {
    "name": "ipython",
    "version": 3
   },
   "file_extension": ".py",
   "mimetype": "text/x-python",
   "name": "python",
   "nbconvert_exporter": "python",
   "pygments_lexer": "ipython3",
   "version": "3.9.16"
  }
 },
 "nbformat": 4,
 "nbformat_minor": 5
}
