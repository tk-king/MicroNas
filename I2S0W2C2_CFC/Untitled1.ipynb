{
 "cells": [
  {
   "cell_type": "code",
   "execution_count": 64,
   "id": "bb54bb39-7fe2-41a3-9bf8-4453ca69ab0e",
   "metadata": {},
   "outputs": [
    {
     "data": {
      "text/plain": [
       "'2.3.0+cu121'"
      ]
     },
     "execution_count": 64,
     "metadata": {},
     "output_type": "execute_result"
    }
   ],
   "source": [
    "torch.__version__"
   ]
  },
  {
   "cell_type": "code",
   "execution_count": 1,
   "id": "ff950c51-0464-43b6-b1c6-36fd0ef2cea3",
   "metadata": {},
   "outputs": [
    {
     "name": "stdout",
     "output_type": "stream",
     "text": [
      "Build the TinyHAR model!\n"
     ]
    }
   ],
   "source": [
    "import os\n",
    "import torch\n",
    "from models.model_builder import model_builder\n",
    "import numpy as np\n",
    "from scipy.stats import mode\n",
    "\n",
    "import pandas as pd\n",
    "\n",
    "\n",
    "class dotdict(dict):\n",
    "  \"\"\"dot.notation access to dictionary attributes\"\"\"\n",
    "  __getattr__ = dict.get\n",
    "  __setattr__ = dict.__setitem__\n",
    "  __delattr__ = dict.__delitem__\n",
    "\n",
    "args = dotdict()  \n",
    "args.gpu = 0\n",
    "args.use_multi_gpu = False\n",
    "args.model_type = \"tinyhar\"\n",
    "args.cross_channel_interaction_type = \"attn\"\n",
    "args.cross_channel_aggregation_type = \"FC\"\n",
    "args.temporal_info_interaction_type = \"lstm\"\n",
    "args.temporal_info_aggregation_type = \"tnaive\"\n",
    "\n",
    "\n",
    "# motionsense\n",
    "# model_weight_path = \"/pfs/data5/home/kit/tm/px6680/Conference/ISWC2023/Run_logs/logs/model_tinyhar_data_motionsense_seed_1_differencing_False_Seperation_False_magnitude_False_Mixup_0.5_RandomAug_0.5_oration_0.5_Mixupargmax_True_randomconfig_random_aug_all.yaml\"\n",
    "# args.data_name = \"motionsense\"\n",
    "\n",
    "# dg\n",
    "model_weight_path = \"/pfs/data5/home/kit/tm/px6680/Conference/ISWC2023/Run_logs/logs/model_tinyhar_data_dg_seed_1_differencing_False_Seperation_False_magnitude_False_Mixup_0.5_RandomAug_0.5_Scaling_1.0_Mixupargmax_True_randomconfig_random_aug_all.yaml\"\n",
    "args.data_name = \"dg\"\n",
    "\n",
    "# mhealth\n",
    "# model_weight_path = \"/pfs/data5/home/kit/tm/px6680/Conference/ISWC2023/Run_logs/logs/model_tinyhar_data_mhealth_seed_1_differencing_False_Seperation_False_magnitude_False_Mixup_0.5_RandomAug_0.5_oration_0.5_Mixupargmax_True_randomconfig_random_aug_all.yaml\"\n",
    "# args.data_name = \"mhealth\"\n",
    "\n",
    "args.seed = 1\n",
    "args.mixup_argmax = True\n",
    "args.root_path = \"../../../datasets\"\n",
    "args.filter_scaling_factor = 1.0\n",
    "args.mixup_probability = 0.5\n",
    "args.random_augmentation_prob = 0.5\n",
    "args.random_augmentation_config_path = \"random_aug_all.yaml\"\n",
    "args.batch_size = 128\n",
    "args.fft_segments_length=16\n",
    "args.use_gpu                 = True if torch.cuda.is_available() else False\n",
    "args.window_save_path = \"../Sliding_window\"\n",
    "args.to_save_path = \"../Run_logs\"\n",
    "args.freq_save_path = \"../Freq_data\"\n",
    "args.datanorm_type = \"standardization\"\n",
    "\n",
    "\n",
    "import yaml\n",
    "aug_config = open('configs/'+args.random_augmentation_config_path, mode='r')\n",
    "aug_config = yaml.load(aug_config, Loader=yaml.FullLoader)\n",
    "args.random_augmentation_config  = aug_config\n",
    "\n",
    "# args.random_augmentation_config = {\"jitter\":True,\n",
    "#                                    \"moving_average\":True,\n",
    "#                                    \"magnitude_scaling\":True,\n",
    "#                                    \"magnitude_warp\":True,\n",
    "#                                    \"magnitude_shift\":True,\n",
    "#                                    \"time_warp\":True,\n",
    "#                                    \"window_warp\":True,\n",
    "#                                    \"window_slice\":True,\n",
    "#                                    \"random_sampling\":True,\n",
    "#                                    \"slope_adding\":True\n",
    "#                                    }\n",
    "\n",
    "random_augmentation_nr = len(aug_config.keys())\n",
    "# for key in args.random_augmentation_config.keys():\n",
    "#     if args.random_augmentation_config[key]:\n",
    "#         random_augmentation_nr = random_augmentation_nr+1\n",
    "args.random_augmentation_nr = random_augmentation_nr\n",
    "\n",
    "\n",
    "args.pos_select       = None\n",
    "args.sensor_select    = None\n",
    "\n",
    "if args.data_name ==  \"skodar\":\n",
    "    args.exp_mode = \"SOCV\"\n",
    "\n",
    "config_file = open('configs/data.yaml', mode='r')\n",
    "data_config = yaml.load(config_file, Loader=yaml.FullLoader)\n",
    "config = data_config[args.data_name]\n",
    "\n",
    "args.root_path       =  os.path.join(args.root_path,config[\"filename\"])\n",
    "args.sampling_freq   =  config[\"sampling_freq\"]\n",
    "#print(\"-------------------delete num_classes-----------------\")\n",
    "args.num_classes     =  config[\"num_classes\"]\n",
    "window_seconds       =  config[\"window_seconds\"]\n",
    "args.windowsize      =  int(window_seconds * args.sampling_freq) \n",
    "args.input_length    =  args.windowsize\n",
    "\n",
    "\n",
    "args.S_number_sensors_type= config[\"S_number_sensors_type\"]\n",
    "args.L_sensor_locations= config[\"L_sensor_locations\"]\n",
    "args.k_number_sensors_group= config[\"k_number_sensors_group\"]\n",
    "# input information\n",
    "args.c_in            =  config[\"num_channels\"]\n",
    "if args.difference:\n",
    "    args.c_in  = args.c_in * 2\n",
    "if  args.filtering :\n",
    "    for col in config[\"sensors\"]:\n",
    "        if \"acc\" in col:\n",
    "            args.c_in = args.c_in+1\n",
    "\n",
    "\n",
    "\n",
    "if args.wavelet_filtering :\n",
    "    if args.windowsize%2==1:\n",
    "        N_ds = int(torch.log2(torch.tensor(args.windowsize-1)).floor()) - 2\n",
    "    else:\n",
    "        N_ds = int(torch.log2(torch.tensor(args.windowsize)).floor()) - 2\n",
    "\n",
    "    args.f_in            =  args.number_wavelet_filtering*N_ds+1\n",
    "else:\n",
    "    args.f_in            =  1\n",
    "\n",
    "\n",
    "\n",
    "\n",
    "\n",
    "\n",
    "os.environ[\"CUDA_VISIBLE_DEVICES\"] = str(args.gpu) \n",
    "device = torch.device('cuda:{}'.format(args.gpu))\n",
    "\n",
    "model = model_builder(args).double()#.to(device)"
   ]
  },
  {
   "cell_type": "code",
   "execution_count": 2,
   "id": "b9d1d109-ee81-490f-839c-6349ce91bce5",
   "metadata": {},
   "outputs": [
    {
     "data": {
      "text/plain": [
       "<All keys matched successfully>"
      ]
     },
     "execution_count": 2,
     "metadata": {},
     "output_type": "execute_result"
    }
   ],
   "source": [
    "model.load_state_dict(torch.load(model_weight_path+'/cv_{}/final_best_vali.pth'.format(0)))"
   ]
  },
  {
   "cell_type": "code",
   "execution_count": 3,
   "id": "2b7b7c7c-bca7-401d-a1d4-b805e66f4dcf",
   "metadata": {},
   "outputs": [
    {
     "name": "stdout",
     "output_type": "stream",
     "text": [
      " ----------------------- load all the data -------------------\n",
      "-----------------------Sliding file are generated -----------------------\n",
      "-----------------------Sliding file are generated -----------------------\n"
     ]
    }
   ],
   "source": [
    "from dataloaders import data_dict,data_set\n",
    "dataset = data_dict[args.data_name](args)"
   ]
  },
  {
   "cell_type": "code",
   "execution_count": 4,
   "id": "323f62b2-40f5-4496-9595-9680361963ee",
   "metadata": {},
   "outputs": [],
   "source": [
    "data_x = dataset.data_x\n",
    "data_y = dataset.data_y\n",
    "data_y.reset_index(drop=True, inplace=True)\n"
   ]
  },
  {
   "cell_type": "code",
   "execution_count": 5,
   "id": "5f9bd881-ab8a-42be-9fc1-1800a055d340",
   "metadata": {},
   "outputs": [],
   "source": [
    "def majority_voting(data, window_size=5):\n",
    "    # 确保窗口大小为奇数，便于取中心点\n",
    "\n",
    "    \n",
    "\n",
    "    n = len(data)\n",
    "    smoothed_data = np.copy(data[window_size-1:])\n",
    "    \n",
    "    # 对每个点应用多数投票，考虑边界情况\n",
    "    for i in range(window_size,n):\n",
    "        # 计算窗口的起始和结束索引\n",
    "        start = i-window_size\n",
    "        end = i+1\n",
    "        \n",
    "        # 获取窗口内的数据\n",
    "        window = data[start:end]\n",
    "        \n",
    "        # 计算众数\n",
    "        result = mode(window)\n",
    "        \n",
    "        # 将窗口的中心点设置为众数\n",
    "        smoothed_data[i-window_size] = result.mode[0]\n",
    "    \n",
    "    return smoothed_data"
   ]
  },
  {
   "cell_type": "code",
   "execution_count": 21,
   "id": "2ad9a355-89a7-45f5-809d-5e11c9c476f2",
   "metadata": {
    "scrolled": true
   },
   "outputs": [
    {
     "name": "stdout",
     "output_type": "stream",
     "text": [
      "0\n",
      "-\n",
      "1_2\n"
     ]
    },
    {
     "name": "stderr",
     "output_type": "stream",
     "text": [
      "/scratch/slurm_tmpdir/job_23632060/ipykernel_428096/1842528769.py:36: FutureWarning: Unlike other reduction functions (e.g. `skew`, `kurtosis`), the default behavior of `mode` typically preserves the axis it acts along. In SciPy 1.11.0, this behavior will change: the default value of `keepdims` will become False, the `axis` over which the statistic is taken will be eliminated, and the value None will no longer be accepted. Set `keepdims` to True or False to avoid this warning.\n",
      "  gt_y = mode(temp_y.iloc[i:i+args.windowsize].values)[0][0]\n"
     ]
    },
    {
     "ename": "AssertionError",
     "evalue": "",
     "output_type": "error",
     "traceback": [
      "\u001b[0;31m---------------------------------------------------------------------------\u001b[0m",
      "\u001b[0;31mAssertionError\u001b[0m                            Traceback (most recent call last)",
      "Cell \u001b[0;32mIn[21], line 42\u001b[0m\n\u001b[1;32m     40\u001b[0m     pred \u001b[38;5;241m=\u001b[39m np\u001b[38;5;241m.\u001b[39margmax(outputs\u001b[38;5;241m.\u001b[39mdetach()\u001b[38;5;241m.\u001b[39mcpu()\u001b[38;5;241m.\u001b[39mnumpy(),axis\u001b[38;5;241m=\u001b[39m\u001b[38;5;241m0\u001b[39m)\n\u001b[1;32m     41\u001b[0m     pred_list\u001b[38;5;241m.\u001b[39mappend(pred)\n\u001b[0;32m---> 42\u001b[0m \u001b[38;5;28;01massert\u001b[39;00m \u001b[38;5;241m1\u001b[39m\u001b[38;5;241m==\u001b[39m\u001b[38;5;241m0\u001b[39m\n",
      "\u001b[0;31mAssertionError\u001b[0m: "
     ]
    }
   ],
   "source": [
    "\n",
    "gt_list = []\n",
    "pred_list = []\n",
    "\n",
    "for index,item in enumerate(dataset.LOCV_keys):\n",
    "    print(index)\n",
    "    model.load_state_dict(torch.load(model_weight_path+'/cv_{}/final_best_vali.pth'.format(index)))\n",
    "    print(\"-\")\n",
    "    filtered_df_x = data_x[data_x['sub'].isin(item)]\n",
    "\n",
    "    train_keys = [i for i in dataset.all_keys if i not in item]\n",
    "    filtered_df_train = data_x[data_x['sub'].isin(train_keys)].iloc[:,1:-1]\n",
    "    mean = filtered_df_train.mean(0)\n",
    "    std = filtered_df_train.std(0)\n",
    "\n",
    "\n",
    "\n",
    "    filtered_df_x_sub_id = filtered_df_x.iloc[:,0]\n",
    "    filtered_df_x_input = filtered_df_x.iloc[:,1:-1]\n",
    "    filtered_df_x_sub = filtered_df_x.iloc[:,-1]\n",
    "\n",
    "    filtered_df_x_input = (filtered_df_x_input - mean) / (std + np.finfo(float).eps)\n",
    "    filtered_df_x = pd.concat([filtered_df_x_sub_id,filtered_df_x_input,filtered_df_x_sub], axis=1)\n",
    "    \n",
    "    #filtered_df_y = data_y[filtered_df_x.index]\n",
    "    for subid in filtered_df_x[\"sub_id\"].unique():\n",
    "        print(subid)\n",
    "        temp_x = filtered_df_x[filtered_df_x[\"sub_id\"]==subid]\n",
    "        temp_y = data_y[temp_x.index]\n",
    "        temp_x.reset_index(drop=True, inplace=True)\n",
    "        temp_y.reset_index(drop=True, inplace=True)\n",
    "\n",
    "        for i in range(temp_x.shape[0]-args.windowsize):\n",
    "            if i%10!=0:\n",
    "                continue\n",
    "            inputx = temp_x.iloc[i:i+args.windowsize,1:-1]\n",
    "            gt_y = mode(temp_y.iloc[i:i+args.windowsize].values)[0][0]\n",
    "            gt_list.append(gt_y)\n",
    "            inputx = torch.tensor(np.expand_dims(np.expand_dims(np.array(inputx),0),0)).double()\n",
    "            outputs = model(inputx)[0]\n",
    "            pred = np.argmax(outputs.detach().cpu().numpy(),axis=0)\n",
    "            pred_list.append(pred)\n",
    "        assert 1==0\n",
    "\n"
   ]
  },
  {
   "cell_type": "code",
   "execution_count": 22,
   "id": "5f4b6488-c692-4338-ad10-254652a3bb33",
   "metadata": {},
   "outputs": [
    {
     "name": "stderr",
     "output_type": "stream",
     "text": [
      "/scratch/slurm_tmpdir/job_23632060/ipykernel_428096/4249985828.py:19: FutureWarning: Unlike other reduction functions (e.g. `skew`, `kurtosis`), the default behavior of `mode` typically preserves the axis it acts along. In SciPy 1.11.0, this behavior will change: the default value of `keepdims` will become False, the `axis` over which the statistic is taken will be eliminated, and the value None will no longer be accepted. Set `keepdims` to True or False to avoid this warning.\n",
      "  result = mode(window)\n"
     ]
    }
   ],
   "source": [
    "window_size = 15\n",
    "smoothed_pred_list  =majority_voting(pred_list,window_size)\n",
    "cpped_pred_list = pred_list[window_size-1:]\n",
    "cpped_gt_list = gt_list[window_size-1:]"
   ]
  },
  {
   "cell_type": "code",
   "execution_count": 23,
   "id": "3a3a1e97-c8c1-4f09-9737-4bf0abcbac95",
   "metadata": {},
   "outputs": [],
   "source": [
    "import matplotlib.pyplot as plt"
   ]
  },
  {
   "cell_type": "code",
   "execution_count": 24,
   "id": "27783bd1-6d80-44d2-949e-3680d34e6d70",
   "metadata": {},
   "outputs": [
    {
     "data": {
      "text/plain": [
       "[<matplotlib.lines.Line2D at 0x1466b1344f40>]"
      ]
     },
     "execution_count": 24,
     "metadata": {},
     "output_type": "execute_result"
    },
    {
     "data": {
      "image/png": "[encoded data removed]",
      "text/plain": [
       "<Figure size 640x480 with 1 Axes>"
      ]
     },
     "metadata": {},
     "output_type": "display_data"
    }
   ],
   "source": [
    "plt.plot(pred_list)"
   ]
  },
  {
   "cell_type": "code",
   "execution_count": 25,
   "id": "57daba16-393a-40de-9a3e-b7a7a55c0666",
   "metadata": {},
   "outputs": [
    {
     "data": {
      "text/plain": [
       "[<matplotlib.lines.Line2D at 0x1466b13448b0>]"
      ]
     },
     "execution_count": 25,
     "metadata": {},
     "output_type": "execute_result"
    },
    {
     "data": {
      "image/png": "[encoded data removed]",
      "text/plain": [
       "<Figure size 640x480 with 1 Axes>"
      ]
     },
     "metadata": {},
     "output_type": "display_data"
    }
   ],
   "source": [
    "plt.plot(gt_list)"
   ]
  },
  {
   "cell_type": "code",
   "execution_count": 26,
   "id": "5ed19fc3-ccd2-4430-baea-779bb80c192c",
   "metadata": {},
   "outputs": [],
   "source": [
    "from sklearn.metrics import f1_score\n",
    "\n",
    "f_macro_before = f1_score(cpped_gt_list, cpped_pred_list, average='macro')\n",
    "f_macro_after = f1_score(cpped_gt_list, smoothed_pred_list, average='macro')"
   ]
  },
  {
   "cell_type": "code",
   "execution_count": 27,
   "id": "0f19e1ca-8a3e-4224-8779-86de52266053",
   "metadata": {},
   "outputs": [
    {
     "data": {
      "text/plain": [
       "0.2062789580147343"
      ]
     },
     "execution_count": 27,
     "metadata": {},
     "output_type": "execute_result"
    }
   ],
   "source": [
    "f_macro_before"
   ]
  },
  {
   "cell_type": "code",
   "execution_count": 28,
   "id": "3a2e9991-9990-44d4-8314-401084aa1336",
   "metadata": {},
   "outputs": [
    {
     "data": {
      "text/plain": [
       "0.20533333333333334"
      ]
     },
     "execution_count": 28,
     "metadata": {},
     "output_type": "execute_result"
    }
   ],
   "source": [
    "f_macro_after"
   ]
  },
  {
   "cell_type": "code",
   "execution_count": 19,
   "id": "1a7e0004-c64c-45f2-a35d-fbd09691ded3",
   "metadata": {},
   "outputs": [
    {
     "data": {
      "text/plain": [
       "0"
      ]
     },
     "execution_count": 19,
     "metadata": {},
     "output_type": "execute_result"
    }
   ],
   "source": [
    "inputx = torch.tensor(np.expand_dims(np.expand_dims(np.array(inputx),0),0)).double()#.to(device)\n",
    "\n",
    "outputs = model(inputx)[0]\n",
    "\n",
    "np.argmax(outputs.detach().cpu().numpy(),axis=0)"
   ]
  },
  {
   "cell_type": "code",
   "execution_count": 47,
   "id": "006cf2a6-daad-43ab-b65c-759c5786b076",
   "metadata": {},
   "outputs": [],
   "source": [
    "def majority_voting(data, window_size=5):\n",
    "    # 确保窗口大小为奇数，便于取中心点\n",
    "\n",
    "    \n",
    "\n",
    "    n = len(data)\n",
    "    smoothed_data = np.copy(data[window_size-1:])\n",
    "    \n",
    "    # 对每个点应用多数投票，考虑边界情况\n",
    "    for i in range(window_size,n):\n",
    "        # 计算窗口的起始和结束索引\n",
    "        start = i-window_size\n",
    "        end = i+1\n",
    "        \n",
    "        # 获取窗口内的数据\n",
    "        window = data[start:end]\n",
    "        \n",
    "        # 计算众数\n",
    "        result = mode(window)\n",
    "        \n",
    "        # 将窗口的中心点设置为众数\n",
    "        smoothed_data[i-window_size] = result.mode[0]\n",
    "    \n",
    "    return smoothed_data"
   ]
  },
  {
   "cell_type": "code",
   "execution_count": 48,
   "id": "58af5456-c299-4f00-87dc-962d0e85f456",
   "metadata": {},
   "outputs": [
    {
     "name": "stderr",
     "output_type": "stream",
     "text": [
      "/scratch/slurm_tmpdir/job_23631743/ipykernel_525109/4249985828.py:19: FutureWarning: Unlike other reduction functions (e.g. `skew`, `kurtosis`), the default behavior of `mode` typically preserves the axis it acts along. In SciPy 1.11.0, this behavior will change: the default value of `keepdims` will become False, the `axis` over which the statistic is taken will be eliminated, and the value None will no longer be accepted. Set `keepdims` to True or False to avoid this warning.\n",
      "  result = mode(window)\n"
     ]
    },
    {
     "data": {
      "text/plain": [
       "array([0, 0, 0, 0, 0, 0, 0, 0, 0, 0, 0, 0, 0, 0, 0, 0, 0, 0, 0, 0, 0, 0,\n",
       "       0, 0, 0, 0, 0, 0, 0, 0, 0, 0, 0, 0, 0, 0, 0, 0, 0, 0, 0, 0, 0, 0,\n",
       "       0, 0, 0, 0, 0, 0, 0, 0, 0, 0, 0, 0, 0, 0, 0, 0, 0, 0, 0, 0, 0, 0,\n",
       "       0, 0, 0, 0, 0, 0, 0, 0, 0, 0, 0, 0])"
      ]
     },
     "execution_count": 48,
     "metadata": {},
     "output_type": "execute_result"
    }
   ],
   "source": [
    "majority_voting(pred_list)"
   ]
  },
  {
   "cell_type": "code",
   "execution_count": 18,
   "id": "966f6c44-9939-4069-b45b-44be255461fa",
   "metadata": {},
   "outputs": [
    {
     "data": {
      "text/plain": [
       "<All keys matched successfully>"
      ]
     },
     "execution_count": 18,
     "metadata": {},
     "output_type": "execute_result"
    }
   ],
   "source": [
    "model.load_state_dict(torch.load(model_weight_path+'/cv_{}/final_best_vali.pth'.format(0)))"
   ]
  },
  {
   "cell_type": "code",
   "execution_count": 11,
   "id": "97e30b21-97dc-441e-91df-fe6e94fc258e",
   "metadata": {},
   "outputs": [
    {
     "data": {
      "text/html": [
       "<div>\n",
       "<style scoped>\n",
       "    .dataframe tbody tr th:only-of-type {\n",
       "        vertical-align: middle;\n",
       "    }\n",
       "\n",
       "    .dataframe tbody tr th {\n",
       "        vertical-align: top;\n",
       "    }\n",
       "\n",
       "    .dataframe thead th {\n",
       "        text-align: right;\n",
       "    }\n",
       "</style>\n",
       "<table border=\"1\" class=\"dataframe\">\n",
       "  <thead>\n",
       "    <tr style=\"text-align: right;\">\n",
       "      <th></th>\n",
       "      <th>sub_id</th>\n",
       "      <th>attitude.roll</th>\n",
       "      <th>attitude.pitch</th>\n",
       "      <th>attitude.yaw</th>\n",
       "      <th>gravity.x</th>\n",
       "      <th>gravity.y</th>\n",
       "      <th>gravity.z</th>\n",
       "      <th>rotationRate.x</th>\n",
       "      <th>rotationRate.y</th>\n",
       "      <th>rotationRate.z</th>\n",
       "      <th>userAcceleration.x</th>\n",
       "      <th>userAcceleration.y</th>\n",
       "      <th>userAcceleration.z</th>\n",
       "      <th>sub</th>\n",
       "    </tr>\n",
       "  </thead>\n",
       "  <tbody>\n",
       "    <tr>\n",
       "      <th>0</th>\n",
       "      <td>1_dws_1</td>\n",
       "      <td>1.528132</td>\n",
       "      <td>-0.733896</td>\n",
       "      <td>0.696372</td>\n",
       "      <td>0.741895</td>\n",
       "      <td>0.669768</td>\n",
       "      <td>-0.031672</td>\n",
       "      <td>0.316738</td>\n",
       "      <td>0.778180</td>\n",
       "      <td>1.082764</td>\n",
       "      <td>0.294894</td>\n",
       "      <td>-0.184493</td>\n",
       "      <td>0.377542</td>\n",
       "      <td>1</td>\n",
       "    </tr>\n",
       "    <tr>\n",
       "      <th>1</th>\n",
       "      <td>1_dws_1</td>\n",
       "      <td>1.527992</td>\n",
       "      <td>-0.716987</td>\n",
       "      <td>0.677762</td>\n",
       "      <td>0.753099</td>\n",
       "      <td>0.657116</td>\n",
       "      <td>-0.032255</td>\n",
       "      <td>0.842032</td>\n",
       "      <td>0.424446</td>\n",
       "      <td>0.643574</td>\n",
       "      <td>0.219405</td>\n",
       "      <td>0.035846</td>\n",
       "      <td>0.114866</td>\n",
       "      <td>1</td>\n",
       "    </tr>\n",
       "    <tr>\n",
       "      <th>2</th>\n",
       "      <td>1_dws_1</td>\n",
       "      <td>1.527765</td>\n",
       "      <td>-0.706999</td>\n",
       "      <td>0.670951</td>\n",
       "      <td>0.759611</td>\n",
       "      <td>0.649555</td>\n",
       "      <td>-0.032707</td>\n",
       "      <td>-0.138143</td>\n",
       "      <td>-0.040741</td>\n",
       "      <td>0.343563</td>\n",
       "      <td>0.010714</td>\n",
       "      <td>0.134701</td>\n",
       "      <td>-0.167808</td>\n",
       "      <td>1</td>\n",
       "    </tr>\n",
       "    <tr>\n",
       "      <th>3</th>\n",
       "      <td>1_dws_1</td>\n",
       "      <td>1.516768</td>\n",
       "      <td>-0.704678</td>\n",
       "      <td>0.675735</td>\n",
       "      <td>0.760709</td>\n",
       "      <td>0.647788</td>\n",
       "      <td>-0.041140</td>\n",
       "      <td>-0.025005</td>\n",
       "      <td>-1.048717</td>\n",
       "      <td>0.035860</td>\n",
       "      <td>-0.008389</td>\n",
       "      <td>0.136788</td>\n",
       "      <td>0.094958</td>\n",
       "      <td>1</td>\n",
       "    </tr>\n",
       "    <tr>\n",
       "      <th>4</th>\n",
       "      <td>1_dws_1</td>\n",
       "      <td>1.493941</td>\n",
       "      <td>-0.703918</td>\n",
       "      <td>0.672994</td>\n",
       "      <td>0.760062</td>\n",
       "      <td>0.647210</td>\n",
       "      <td>-0.058530</td>\n",
       "      <td>0.114253</td>\n",
       "      <td>-0.912890</td>\n",
       "      <td>0.047341</td>\n",
       "      <td>0.199441</td>\n",
       "      <td>0.353996</td>\n",
       "      <td>-0.044299</td>\n",
       "      <td>1</td>\n",
       "    </tr>\n",
       "    <tr>\n",
       "      <th>...</th>\n",
       "      <td>...</td>\n",
       "      <td>...</td>\n",
       "      <td>...</td>\n",
       "      <td>...</td>\n",
       "      <td>...</td>\n",
       "      <td>...</td>\n",
       "      <td>...</td>\n",
       "      <td>...</td>\n",
       "      <td>...</td>\n",
       "      <td>...</td>\n",
       "      <td>...</td>\n",
       "      <td>...</td>\n",
       "      <td>...</td>\n",
       "      <td>...</td>\n",
       "    </tr>\n",
       "    <tr>\n",
       "      <th>1412860</th>\n",
       "      <td>24_std_14</td>\n",
       "      <td>-2.512274</td>\n",
       "      <td>-1.475547</td>\n",
       "      <td>0.560892</td>\n",
       "      <td>-0.055978</td>\n",
       "      <td>0.995467</td>\n",
       "      <td>0.076886</td>\n",
       "      <td>-0.048465</td>\n",
       "      <td>0.019469</td>\n",
       "      <td>0.001242</td>\n",
       "      <td>-0.000006</td>\n",
       "      <td>0.003480</td>\n",
       "      <td>0.003391</td>\n",
       "      <td>24</td>\n",
       "    </tr>\n",
       "    <tr>\n",
       "      <th>1412861</th>\n",
       "      <td>24_std_14</td>\n",
       "      <td>-2.514569</td>\n",
       "      <td>-1.474699</td>\n",
       "      <td>0.558068</td>\n",
       "      <td>-0.056297</td>\n",
       "      <td>0.995386</td>\n",
       "      <td>0.077698</td>\n",
       "      <td>-0.048469</td>\n",
       "      <td>0.012038</td>\n",
       "      <td>-0.005159</td>\n",
       "      <td>-0.007363</td>\n",
       "      <td>0.001165</td>\n",
       "      <td>-0.003677</td>\n",
       "      <td>24</td>\n",
       "    </tr>\n",
       "    <tr>\n",
       "      <th>1412862</th>\n",
       "      <td>24_std_14</td>\n",
       "      <td>-2.517105</td>\n",
       "      <td>-1.473640</td>\n",
       "      <td>0.555248</td>\n",
       "      <td>-0.056716</td>\n",
       "      <td>0.995284</td>\n",
       "      <td>0.078696</td>\n",
       "      <td>-0.045221</td>\n",
       "      <td>0.015253</td>\n",
       "      <td>-0.012618</td>\n",
       "      <td>-0.003800</td>\n",
       "      <td>-0.004638</td>\n",
       "      <td>0.001978</td>\n",
       "      <td>24</td>\n",
       "    </tr>\n",
       "    <tr>\n",
       "      <th>1412863</th>\n",
       "      <td>24_std_14</td>\n",
       "      <td>-2.515195</td>\n",
       "      <td>-1.472593</td>\n",
       "      <td>0.557282</td>\n",
       "      <td>-0.057477</td>\n",
       "      <td>0.995182</td>\n",
       "      <td>0.079431</td>\n",
       "      <td>-0.034644</td>\n",
       "      <td>-0.016695</td>\n",
       "      <td>-0.024255</td>\n",
       "      <td>-0.007647</td>\n",
       "      <td>-0.005009</td>\n",
       "      <td>-0.001688</td>\n",
       "      <td>24</td>\n",
       "    </tr>\n",
       "    <tr>\n",
       "      <th>1412864</th>\n",
       "      <td>24_std_14</td>\n",
       "      <td>-2.512655</td>\n",
       "      <td>-1.471566</td>\n",
       "      <td>0.560290</td>\n",
       "      <td>-0.058280</td>\n",
       "      <td>0.995081</td>\n",
       "      <td>0.080111</td>\n",
       "      <td>-0.033582</td>\n",
       "      <td>-0.028374</td>\n",
       "      <td>-0.034916</td>\n",
       "      <td>-0.004739</td>\n",
       "      <td>0.009436</td>\n",
       "      <td>-0.000384</td>\n",
       "      <td>24</td>\n",
       "    </tr>\n",
       "  </tbody>\n",
       "</table>\n",
       "<p>1412865 rows × 14 columns</p>\n",
       "</div>"
      ],
      "text/plain": [
       "            sub_id  attitude.roll  attitude.pitch  attitude.yaw  gravity.x  \\\n",
       "0          1_dws_1       1.528132       -0.733896      0.696372   0.741895   \n",
       "1          1_dws_1       1.527992       -0.716987      0.677762   0.753099   \n",
       "2          1_dws_1       1.527765       -0.706999      0.670951   0.759611   \n",
       "3          1_dws_1       1.516768       -0.704678      0.675735   0.760709   \n",
       "4          1_dws_1       1.493941       -0.703918      0.672994   0.760062   \n",
       "...            ...            ...             ...           ...        ...   \n",
       "1412860  24_std_14      -2.512274       -1.475547      0.560892  -0.055978   \n",
       "1412861  24_std_14      -2.514569       -1.474699      0.558068  -0.056297   \n",
       "1412862  24_std_14      -2.517105       -1.473640      0.555248  -0.056716   \n",
       "1412863  24_std_14      -2.515195       -1.472593      0.557282  -0.057477   \n",
       "1412864  24_std_14      -2.512655       -1.471566      0.560290  -0.058280   \n",
       "\n",
       "         gravity.y  gravity.z  rotationRate.x  rotationRate.y  rotationRate.z  \\\n",
       "0         0.669768  -0.031672        0.316738        0.778180        1.082764   \n",
       "1         0.657116  -0.032255        0.842032        0.424446        0.643574   \n",
       "2         0.649555  -0.032707       -0.138143       -0.040741        0.343563   \n",
       "3         0.647788  -0.041140       -0.025005       -1.048717        0.035860   \n",
       "4         0.647210  -0.058530        0.114253       -0.912890        0.047341   \n",
       "...            ...        ...             ...             ...             ...   \n",
       "1412860   0.995467   0.076886       -0.048465        0.019469        0.001242   \n",
       "1412861   0.995386   0.077698       -0.048469        0.012038       -0.005159   \n",
       "1412862   0.995284   0.078696       -0.045221        0.015253       -0.012618   \n",
       "1412863   0.995182   0.079431       -0.034644       -0.016695       -0.024255   \n",
       "1412864   0.995081   0.080111       -0.033582       -0.028374       -0.034916   \n",
       "\n",
       "         userAcceleration.x  userAcceleration.y  userAcceleration.z  sub  \n",
       "0                  0.294894           -0.184493            0.377542    1  \n",
       "1                  0.219405            0.035846            0.114866    1  \n",
       "2                  0.010714            0.134701           -0.167808    1  \n",
       "3                 -0.008389            0.136788            0.094958    1  \n",
       "4                  0.199441            0.353996           -0.044299    1  \n",
       "...                     ...                 ...                 ...  ...  \n",
       "1412860           -0.000006            0.003480            0.003391   24  \n",
       "1412861           -0.007363            0.001165           -0.003677   24  \n",
       "1412862           -0.003800           -0.004638            0.001978   24  \n",
       "1412863           -0.007647           -0.005009           -0.001688   24  \n",
       "1412864           -0.004739            0.009436           -0.000384   24  \n",
       "\n",
       "[1412865 rows x 14 columns]"
      ]
     },
     "execution_count": 11,
     "metadata": {},
     "output_type": "execute_result"
    }
   ],
   "source": [
    "dataset.data_x"
   ]
  },
  {
   "cell_type": "code",
   "execution_count": 12,
   "id": "6e4ca40e-801f-4083-abb2-e300619f933d",
   "metadata": {},
   "outputs": [
    {
     "data": {
      "text/plain": [
       "[[1, 2],\n",
       " [3, 4],\n",
       " [5, 6],\n",
       " [7, 8, 9],\n",
       " [10, 11, 12],\n",
       " [13, 14, 15],\n",
       " [16, 17, 18],\n",
       " [19, 20],\n",
       " [21, 22],\n",
       " [23, 24]]"
      ]
     },
     "execution_count": 12,
     "metadata": {},
     "output_type": "execute_result"
    }
   ],
   "source": [
    "dataset.LOCV_keys\n",
    "\n",
    "筛选出sub的数据\n",
    "\n"
   ]
  },
  {
   "cell_type": "code",
   "execution_count": null,
   "id": "43da3e19-b47e-4423-b814-862b649d065d",
   "metadata": {},
   "outputs": [],
   "source": [
    "filtered_df = df[df['column_name'].isin(values_to_select)]"
   ]
  }
 ],
 "metadata": {
  "kernelspec": {
   "display_name": "iswc23",
   "language": "python",
   "name": "iswc23"
  },
  "language_info": {
   "codemirror_mode": {
    "name": "ipython",
    "version": 3
   },
   "file_extension": ".py",
   "mimetype": "text/x-python",
   "name": "python",
   "nbconvert_exporter": "python",
   "pygments_lexer": "ipython3",
   "version": "3.9.16"
  }
 },
 "nbformat": 4,
 "nbformat_minor": 5
}
