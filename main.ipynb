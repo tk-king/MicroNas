{
 "cells": [
  {
   "cell_type": "code",
   "execution_count": 1,
   "metadata": {},
   "outputs": [],
   "source": [
    "%load_ext autoreload\n",
    "%autoreload 2"
   ]
  },
  {
   "cell_type": "code",
   "execution_count": 2,
   "metadata": {},
   "outputs": [
    {
     "name": "stdout",
     "output_type": "stream",
     "text": [
      "Profiler set for device None\n",
      "[]\n",
      "Loaded LatencyPredictor with 0 samples\n"
     ]
    }
   ],
   "source": [
    "import dataloaders\n",
    "from dataloaders.dataloader import loadDataset\n",
    "import micronas\n",
    "from micronas import MicroNas, MicroNasMCU"
   ]
  },
  {
   "cell_type": "code",
   "execution_count": 3,
   "metadata": {},
   "outputs": [
    {
     "name": "stdout",
     "output_type": "stream",
     "text": [
      " ----------------------- load all the data -------------------\n"
     ]
    },
    {
     "name": "stderr",
     "output_type": "stream",
     "text": [
      "/Users/king/Github/timeseries-datasets/dataloaders/dataloader_uci_har.py:109: FutureWarning: The 'delim_whitespace' keyword in pd.read_csv is deprecated and will be removed in a future version. Use ``sep='\\s+'`` instead\n",
      "  train_vali = pd.read_csv(train_vali_path + file,header=None, delim_whitespace=True)\n",
      "/Users/king/Github/timeseries-datasets/dataloaders/dataloader_uci_har.py:110: FutureWarning: The 'delim_whitespace' keyword in pd.read_csv is deprecated and will be removed in a future version. Use ``sep='\\s+'`` instead\n",
      "  test  = pd.read_csv(test_path+file[:-9]+\"test.txt\",header=None, delim_whitespace=True)\n",
      "/Users/king/Github/timeseries-datasets/dataloaders/dataloader_uci_har.py:109: FutureWarning: The 'delim_whitespace' keyword in pd.read_csv is deprecated and will be removed in a future version. Use ``sep='\\s+'`` instead\n",
      "  train_vali = pd.read_csv(train_vali_path + file,header=None, delim_whitespace=True)\n",
      "/Users/king/Github/timeseries-datasets/dataloaders/dataloader_uci_har.py:110: FutureWarning: The 'delim_whitespace' keyword in pd.read_csv is deprecated and will be removed in a future version. Use ``sep='\\s+'`` instead\n",
      "  test  = pd.read_csv(test_path+file[:-9]+\"test.txt\",header=None, delim_whitespace=True)\n",
      "/Users/king/Github/timeseries-datasets/dataloaders/dataloader_uci_har.py:109: FutureWarning: The 'delim_whitespace' keyword in pd.read_csv is deprecated and will be removed in a future version. Use ``sep='\\s+'`` instead\n",
      "  train_vali = pd.read_csv(train_vali_path + file,header=None, delim_whitespace=True)\n",
      "/Users/king/Github/timeseries-datasets/dataloaders/dataloader_uci_har.py:110: FutureWarning: The 'delim_whitespace' keyword in pd.read_csv is deprecated and will be removed in a future version. Use ``sep='\\s+'`` instead\n",
      "  test  = pd.read_csv(test_path+file[:-9]+\"test.txt\",header=None, delim_whitespace=True)\n",
      "/Users/king/Github/timeseries-datasets/dataloaders/dataloader_uci_har.py:109: FutureWarning: The 'delim_whitespace' keyword in pd.read_csv is deprecated and will be removed in a future version. Use ``sep='\\s+'`` instead\n",
      "  train_vali = pd.read_csv(train_vali_path + file,header=None, delim_whitespace=True)\n",
      "/Users/king/Github/timeseries-datasets/dataloaders/dataloader_uci_har.py:110: FutureWarning: The 'delim_whitespace' keyword in pd.read_csv is deprecated and will be removed in a future version. Use ``sep='\\s+'`` instead\n",
      "  test  = pd.read_csv(test_path+file[:-9]+\"test.txt\",header=None, delim_whitespace=True)\n",
      "/Users/king/Github/timeseries-datasets/dataloaders/dataloader_uci_har.py:109: FutureWarning: The 'delim_whitespace' keyword in pd.read_csv is deprecated and will be removed in a future version. Use ``sep='\\s+'`` instead\n",
      "  train_vali = pd.read_csv(train_vali_path + file,header=None, delim_whitespace=True)\n",
      "/Users/king/Github/timeseries-datasets/dataloaders/dataloader_uci_har.py:110: FutureWarning: The 'delim_whitespace' keyword in pd.read_csv is deprecated and will be removed in a future version. Use ``sep='\\s+'`` instead\n",
      "  test  = pd.read_csv(test_path+file[:-9]+\"test.txt\",header=None, delim_whitespace=True)\n",
      "/Users/king/Github/timeseries-datasets/dataloaders/dataloader_uci_har.py:109: FutureWarning: The 'delim_whitespace' keyword in pd.read_csv is deprecated and will be removed in a future version. Use ``sep='\\s+'`` instead\n",
      "  train_vali = pd.read_csv(train_vali_path + file,header=None, delim_whitespace=True)\n",
      "/Users/king/Github/timeseries-datasets/dataloaders/dataloader_uci_har.py:110: FutureWarning: The 'delim_whitespace' keyword in pd.read_csv is deprecated and will be removed in a future version. Use ``sep='\\s+'`` instead\n",
      "  test  = pd.read_csv(test_path+file[:-9]+\"test.txt\",header=None, delim_whitespace=True)\n",
      "/Users/king/Github/timeseries-datasets/dataloaders/dataloader_uci_har.py:109: FutureWarning: The 'delim_whitespace' keyword in pd.read_csv is deprecated and will be removed in a future version. Use ``sep='\\s+'`` instead\n",
      "  train_vali = pd.read_csv(train_vali_path + file,header=None, delim_whitespace=True)\n",
      "/Users/king/Github/timeseries-datasets/dataloaders/dataloader_uci_har.py:110: FutureWarning: The 'delim_whitespace' keyword in pd.read_csv is deprecated and will be removed in a future version. Use ``sep='\\s+'`` instead\n",
      "  test  = pd.read_csv(test_path+file[:-9]+\"test.txt\",header=None, delim_whitespace=True)\n",
      "/Users/king/Github/timeseries-datasets/dataloaders/dataloader_uci_har.py:109: FutureWarning: The 'delim_whitespace' keyword in pd.read_csv is deprecated and will be removed in a future version. Use ``sep='\\s+'`` instead\n",
      "  train_vali = pd.read_csv(train_vali_path + file,header=None, delim_whitespace=True)\n",
      "/Users/king/Github/timeseries-datasets/dataloaders/dataloader_uci_har.py:110: FutureWarning: The 'delim_whitespace' keyword in pd.read_csv is deprecated and will be removed in a future version. Use ``sep='\\s+'`` instead\n",
      "  test  = pd.read_csv(test_path+file[:-9]+\"test.txt\",header=None, delim_whitespace=True)\n",
      "/Users/king/Github/timeseries-datasets/dataloaders/dataloader_uci_har.py:109: FutureWarning: The 'delim_whitespace' keyword in pd.read_csv is deprecated and will be removed in a future version. Use ``sep='\\s+'`` instead\n",
      "  train_vali = pd.read_csv(train_vali_path + file,header=None, delim_whitespace=True)\n",
      "/Users/king/Github/timeseries-datasets/dataloaders/dataloader_uci_har.py:110: FutureWarning: The 'delim_whitespace' keyword in pd.read_csv is deprecated and will be removed in a future version. Use ``sep='\\s+'`` instead\n",
      "  test  = pd.read_csv(test_path+file[:-9]+\"test.txt\",header=None, delim_whitespace=True)\n"
     ]
    },
    {
     "name": "stdout",
     "output_type": "stream",
     "text": [
      "----------------------- Get the Sliding Window -------------------\n",
      "[0, 0, 0, 0, 0, 0, 0, 0, 0, 0]\n",
      "The orginal class weights are :  [0.9968 1.1117 1.2208 0.966  0.9006 0.883 ]\n",
      "================ Given Mode ====================\n",
      "================ 1 CV ======================\n",
      "The class weights are :  [1.0104 1.1445 1.2383 0.9494 0.8933 0.8648]\n",
      "Train data number :  6984\n",
      "The number of classes is :  6\n",
      "The input_length  is :  128\n",
      "The channel_in is :  9\n",
      "Test data number :  2947\n",
      "Validation data number :  368\n"
     ]
    }
   ],
   "source": [
    "# Get the data\n",
    "BASE_DATASET_FOLDER = r\"/Users/king/Github/timeseries-datasets/datasets/\"\n",
    "train_data, vali_data, test_data = loadDataset(BASE_DATASET_FOLDER, \"ucihar\")"
   ]
  },
  {
   "cell_type": "code",
   "execution_count": 19,
   "metadata": {},
   "outputs": [
    {
     "name": "stdout",
     "output_type": "stream",
     "text": [
      "3\n",
      "(128, 9)\n",
      "4\n"
     ]
    }
   ],
   "source": [
    "print(len(train_data[0]))\n",
    "\n",
    "print(train_data[0][0].shape)\n",
    "print(train_data[0][1])\n",
    "print(train_data[0][2])"
   ]
  },
  {
   "cell_type": "code",
   "execution_count": 13,
   "metadata": {},
   "outputs": [
    {
     "name": "stdout",
     "output_type": "stream",
     "text": [
      "3\n",
      "#Time_reduce:  3\n",
      "#Sensor_fusion:  1\n",
      "not included:  Dyn_Conv2D\n",
      "not included:  GlobalAveragePooling\n",
      "not included:  LogSoftMax\n",
      "not included:  Dyn_Conv2D\n",
      "not included:  GlobalAveragePooling\n",
      "not included:  LogSoftMax\n",
      "Epoch:  1  /  100\n"
     ]
    },
    {
     "name": "stderr",
     "output_type": "stream",
     "text": [
      "  0%|          | 0/110 [00:00<?, ?it/s]\n"
     ]
    },
    {
     "ename": "ValueError",
     "evalue": "too many values to unpack (expected 2)",
     "output_type": "error",
     "traceback": [
      "\u001b[0;31m---------------------------------------------------------------------------\u001b[0m",
      "\u001b[0;31mValueError\u001b[0m                                Traceback (most recent call last)",
      "Cell \u001b[0;32mIn[13], line 2\u001b[0m\n\u001b[1;32m      1\u001b[0m mNas \u001b[38;5;241m=\u001b[39m MicroNas(train_data, vali_data, test_data, \u001b[38;5;241m6\u001b[39m)\n\u001b[0;32m----> 2\u001b[0m \u001b[43mmNas\u001b[49m\u001b[38;5;241;43m.\u001b[39;49m\u001b[43msearch\u001b[49m\u001b[43m(\u001b[49m\u001b[43mMicroNasMCU\u001b[49m\u001b[38;5;241;43m.\u001b[39;49m\u001b[43mNUCLEOF446RE\u001b[49m\u001b[43m,\u001b[49m\u001b[43m \u001b[49m\u001b[38;5;241;43m50\u001b[39;49m\u001b[43m,\u001b[49m\u001b[43m \u001b[49m\u001b[38;5;241;43m50\u001b[39;49m\u001b[43m)\u001b[49m\n",
      "File \u001b[0;32m~/Github/MicroNas/micronas/main.py:44\u001b[0m, in \u001b[0;36mMicroNas.search\u001b[0;34m(self, target_mcu, latency_limit, memory_limit, **kwargs)\u001b[0m\n\u001b[1;32m     42\u001b[0m nas_net \u001b[38;5;241m=\u001b[39m SearchNet([ts_len, num_sensors], \u001b[38;5;28mself\u001b[39m\u001b[38;5;241m.\u001b[39mnum_classes)\u001b[38;5;241m.\u001b[39mto(config\u001b[38;5;241m.\u001b[39mtrain_device)\n\u001b[1;32m     43\u001b[0m searcher \u001b[38;5;241m=\u001b[39m ArchSearcher(nas_net)\n\u001b[0;32m---> 44\u001b[0m \u001b[43msearcher\u001b[49m\u001b[38;5;241;43m.\u001b[39;49m\u001b[43mtrain\u001b[49m\u001b[43m(\u001b[49m\u001b[43mtrain_dataloader\u001b[49m\u001b[43m,\u001b[49m\u001b[43m \u001b[49m\u001b[43mvali_dataloader\u001b[49m\u001b[43m,\u001b[49m\u001b[43m \u001b[49m\u001b[43mconfig\u001b[49m\u001b[38;5;241;43m.\u001b[39;49m\u001b[43mtrain_epochs\u001b[49m\u001b[43m,\u001b[49m\u001b[43m \u001b[49m\u001b[43mlatency_limit\u001b[49m\u001b[43m,\u001b[49m\u001b[43m \u001b[49m\u001b[43mmemory_limit\u001b[49m\u001b[43m)\u001b[49m\n",
      "File \u001b[0;32m~/Github/MicroNas/micronas/Nas/Search.py:117\u001b[0m, in \u001b[0;36mArchSearcher.train\u001b[0;34m(self, train_queue, valid_queue, num_epochs, target_lat, target_mem, callback, epochs_pretrain, num_arch_train_steps, eps_decay, alpha_lat, alpha_mem)\u001b[0m\n\u001b[1;32m    115\u001b[0m objs\u001b[38;5;241m.\u001b[39mreset()\n\u001b[1;32m    116\u001b[0m top1\u001b[38;5;241m.\u001b[39mreset()\n\u001b[0;32m--> 117\u001b[0m \u001b[38;5;28;01mfor\u001b[39;00m step, (input_time, target) \u001b[38;5;129;01min\u001b[39;00m \u001b[38;5;28menumerate\u001b[39m(pbar \u001b[38;5;241m:=\u001b[39m tqdm(train_queue)):\n\u001b[1;32m    118\u001b[0m     \u001b[38;5;66;03m# input_time = torch.swapaxes(input_time, 1, 2)\u001b[39;00m\n\u001b[1;32m    119\u001b[0m     \u001b[38;5;28mself\u001b[39m\u001b[38;5;241m.\u001b[39mnetwork\u001b[38;5;241m.\u001b[39mtrain()\n\u001b[1;32m    121\u001b[0m     n \u001b[38;5;241m=\u001b[39m input_time\u001b[38;5;241m.\u001b[39msize(\u001b[38;5;241m0\u001b[39m)\n",
      "\u001b[0;31mValueError\u001b[0m: too many values to unpack (expected 2)"
     ]
    }
   ],
   "source": [
    "mNas = MicroNas(train_data, vali_data, test_data, 6)\n",
    "mNas.search(MicroNasMCU.NUCLEOF446RE, 50, 50)"
   ]
  }
 ],
 "metadata": {
  "kernelspec": {
   "display_name": "micronas",
   "language": "python",
   "name": "python3"
  },
  "language_info": {
   "codemirror_mode": {
    "name": "ipython",
    "version": 3
   },
   "file_extension": ".py",
   "mimetype": "text/x-python",
   "name": "python",
   "nbconvert_exporter": "python",
   "pygments_lexer": "ipython3",
   "version": "3.12.4"
  }
 },
 "nbformat": 4,
 "nbformat_minor": 2
}
