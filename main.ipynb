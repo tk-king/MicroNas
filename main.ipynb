{
 "cells": [
  {
   "cell_type": "code",
   "execution_count": 1,
   "metadata": {},
   "outputs": [],
   "source": [
    "%load_ext autoreload\n",
    "%autoreload 2"
   ]
  },
  {
   "cell_type": "code",
   "execution_count": 7,
   "metadata": {},
   "outputs": [],
   "source": [
    "import dataloaders\n",
    "from dataloaders.dataloader import loadDataset\n",
    "import micronas\n",
    "from micronas import MicroNas, MicroNasMCU"
   ]
  },
  {
   "cell_type": "code",
   "execution_count": 3,
   "metadata": {},
   "outputs": [
    {
     "name": "stdout",
     "output_type": "stream",
     "text": [
      " ----------------------- load all the data -------------------\n"
     ]
    },
    {
     "name": "stderr",
     "output_type": "stream",
     "text": [
      "/Users/king/Github/timeseries-datasets/dataloaders/dataloader_uci_har.py:109: FutureWarning: The 'delim_whitespace' keyword in pd.read_csv is deprecated and will be removed in a future version. Use ``sep='\\s+'`` instead\n",
      "  train_vali = pd.read_csv(train_vali_path + file,header=None, delim_whitespace=True)\n",
      "/Users/king/Github/timeseries-datasets/dataloaders/dataloader_uci_har.py:110: FutureWarning: The 'delim_whitespace' keyword in pd.read_csv is deprecated and will be removed in a future version. Use ``sep='\\s+'`` instead\n",
      "  test  = pd.read_csv(test_path+file[:-9]+\"test.txt\",header=None, delim_whitespace=True)\n",
      "/Users/king/Github/timeseries-datasets/dataloaders/dataloader_uci_har.py:109: FutureWarning: The 'delim_whitespace' keyword in pd.read_csv is deprecated and will be removed in a future version. Use ``sep='\\s+'`` instead\n",
      "  train_vali = pd.read_csv(train_vali_path + file,header=None, delim_whitespace=True)\n",
      "/Users/king/Github/timeseries-datasets/dataloaders/dataloader_uci_har.py:110: FutureWarning: The 'delim_whitespace' keyword in pd.read_csv is deprecated and will be removed in a future version. Use ``sep='\\s+'`` instead\n",
      "  test  = pd.read_csv(test_path+file[:-9]+\"test.txt\",header=None, delim_whitespace=True)\n",
      "/Users/king/Github/timeseries-datasets/dataloaders/dataloader_uci_har.py:109: FutureWarning: The 'delim_whitespace' keyword in pd.read_csv is deprecated and will be removed in a future version. Use ``sep='\\s+'`` instead\n",
      "  train_vali = pd.read_csv(train_vali_path + file,header=None, delim_whitespace=True)\n",
      "/Users/king/Github/timeseries-datasets/dataloaders/dataloader_uci_har.py:110: FutureWarning: The 'delim_whitespace' keyword in pd.read_csv is deprecated and will be removed in a future version. Use ``sep='\\s+'`` instead\n",
      "  test  = pd.read_csv(test_path+file[:-9]+\"test.txt\",header=None, delim_whitespace=True)\n",
      "/Users/king/Github/timeseries-datasets/dataloaders/dataloader_uci_har.py:109: FutureWarning: The 'delim_whitespace' keyword in pd.read_csv is deprecated and will be removed in a future version. Use ``sep='\\s+'`` instead\n",
      "  train_vali = pd.read_csv(train_vali_path + file,header=None, delim_whitespace=True)\n",
      "/Users/king/Github/timeseries-datasets/dataloaders/dataloader_uci_har.py:110: FutureWarning: The 'delim_whitespace' keyword in pd.read_csv is deprecated and will be removed in a future version. Use ``sep='\\s+'`` instead\n",
      "  test  = pd.read_csv(test_path+file[:-9]+\"test.txt\",header=None, delim_whitespace=True)\n",
      "/Users/king/Github/timeseries-datasets/dataloaders/dataloader_uci_har.py:109: FutureWarning: The 'delim_whitespace' keyword in pd.read_csv is deprecated and will be removed in a future version. Use ``sep='\\s+'`` instead\n",
      "  train_vali = pd.read_csv(train_vali_path + file,header=None, delim_whitespace=True)\n",
      "/Users/king/Github/timeseries-datasets/dataloaders/dataloader_uci_har.py:110: FutureWarning: The 'delim_whitespace' keyword in pd.read_csv is deprecated and will be removed in a future version. Use ``sep='\\s+'`` instead\n",
      "  test  = pd.read_csv(test_path+file[:-9]+\"test.txt\",header=None, delim_whitespace=True)\n",
      "/Users/king/Github/timeseries-datasets/dataloaders/dataloader_uci_har.py:109: FutureWarning: The 'delim_whitespace' keyword in pd.read_csv is deprecated and will be removed in a future version. Use ``sep='\\s+'`` instead\n",
      "  train_vali = pd.read_csv(train_vali_path + file,header=None, delim_whitespace=True)\n",
      "/Users/king/Github/timeseries-datasets/dataloaders/dataloader_uci_har.py:110: FutureWarning: The 'delim_whitespace' keyword in pd.read_csv is deprecated and will be removed in a future version. Use ``sep='\\s+'`` instead\n",
      "  test  = pd.read_csv(test_path+file[:-9]+\"test.txt\",header=None, delim_whitespace=True)\n",
      "/Users/king/Github/timeseries-datasets/dataloaders/dataloader_uci_har.py:109: FutureWarning: The 'delim_whitespace' keyword in pd.read_csv is deprecated and will be removed in a future version. Use ``sep='\\s+'`` instead\n",
      "  train_vali = pd.read_csv(train_vali_path + file,header=None, delim_whitespace=True)\n",
      "/Users/king/Github/timeseries-datasets/dataloaders/dataloader_uci_har.py:110: FutureWarning: The 'delim_whitespace' keyword in pd.read_csv is deprecated and will be removed in a future version. Use ``sep='\\s+'`` instead\n",
      "  test  = pd.read_csv(test_path+file[:-9]+\"test.txt\",header=None, delim_whitespace=True)\n",
      "/Users/king/Github/timeseries-datasets/dataloaders/dataloader_uci_har.py:109: FutureWarning: The 'delim_whitespace' keyword in pd.read_csv is deprecated and will be removed in a future version. Use ``sep='\\s+'`` instead\n",
      "  train_vali = pd.read_csv(train_vali_path + file,header=None, delim_whitespace=True)\n",
      "/Users/king/Github/timeseries-datasets/dataloaders/dataloader_uci_har.py:110: FutureWarning: The 'delim_whitespace' keyword in pd.read_csv is deprecated and will be removed in a future version. Use ``sep='\\s+'`` instead\n",
      "  test  = pd.read_csv(test_path+file[:-9]+\"test.txt\",header=None, delim_whitespace=True)\n",
      "/Users/king/Github/timeseries-datasets/dataloaders/dataloader_uci_har.py:109: FutureWarning: The 'delim_whitespace' keyword in pd.read_csv is deprecated and will be removed in a future version. Use ``sep='\\s+'`` instead\n",
      "  train_vali = pd.read_csv(train_vali_path + file,header=None, delim_whitespace=True)\n",
      "/Users/king/Github/timeseries-datasets/dataloaders/dataloader_uci_har.py:110: FutureWarning: The 'delim_whitespace' keyword in pd.read_csv is deprecated and will be removed in a future version. Use ``sep='\\s+'`` instead\n",
      "  test  = pd.read_csv(test_path+file[:-9]+\"test.txt\",header=None, delim_whitespace=True)\n"
     ]
    },
    {
     "name": "stdout",
     "output_type": "stream",
     "text": [
      "----------------------- Get the Sliding Window -------------------\n",
      "[0, 0, 0, 0, 0, 0, 0, 0, 0, 0]\n",
      "The orginal class weights are :  [0.9968 1.1117 1.2208 0.966  0.9006 0.883 ]\n",
      "================ Given Mode ====================\n",
      "================ 1 CV ======================\n",
      "The class weights are :  [0.9974 1.1334 1.2396 0.9565 0.8892 0.8785]\n",
      "Train data number :  6984\n",
      "The number of classes is :  6\n",
      "The input_length  is :  128\n",
      "The channel_in is :  9\n",
      "Test data number :  2947\n",
      "Validation data number :  368\n"
     ]
    }
   ],
   "source": [
    "# Get the data\n",
    "BASE_DATASET_FOLDER = r\"/Users/king/Github/timeseries-datasets/\"\n",
    "train_data, vali_data, test_data = loadDataset(BASE_DATASET_FOLDER, \"ucihar\")"
   ]
  },
  {
   "cell_type": "code",
   "execution_count": 6,
   "metadata": {},
   "outputs": [
    {
     "ename": "TypeError",
     "evalue": "MicroNas.search() missing 3 required positional arguments: 'target_mcu', 'latency_limit', and 'memory_limit'",
     "output_type": "error",
     "traceback": [
      "\u001b[0;31m---------------------------------------------------------------------------\u001b[0m",
      "\u001b[0;31mTypeError\u001b[0m                                 Traceback (most recent call last)",
      "Cell \u001b[0;32mIn[6], line 4\u001b[0m\n\u001b[1;32m      1\u001b[0m mNas \u001b[38;5;241m=\u001b[39m MicroNas(train_data, vali_data, test_data)\n\u001b[0;32m----> 4\u001b[0m \u001b[43mmNas\u001b[49m\u001b[38;5;241;43m.\u001b[39;49m\u001b[43msearch\u001b[49m\u001b[43m(\u001b[49m\u001b[43m)\u001b[49m\n",
      "\u001b[0;31mTypeError\u001b[0m: MicroNas.search() missing 3 required positional arguments: 'target_mcu', 'latency_limit', and 'memory_limit'"
     ]
    }
   ],
   "source": [
    "mNas = MicroNas(train_data, vali_data, test_data)\n",
    "\n",
    "\n",
    "mNas.search(MicroNasMCU.NUCLEOF446RE, 50, 50)"
   ]
  }
 ],
 "metadata": {
  "kernelspec": {
   "display_name": "micronas",
   "language": "python",
   "name": "python3"
  },
  "language_info": {
   "codemirror_mode": {
    "name": "ipython",
    "version": 3
   },
   "file_extension": ".py",
   "mimetype": "text/x-python",
   "name": "python",
   "nbconvert_exporter": "python",
   "pygments_lexer": "ipython3",
   "version": "3.12.4"
  }
 },
 "nbformat": 4,
 "nbformat_minor": 2
}
