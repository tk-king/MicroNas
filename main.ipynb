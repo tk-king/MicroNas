{
 "cells": [
  {
   "cell_type": "code",
   "execution_count": 3,
   "metadata": {},
   "outputs": [],
   "source": [
    "%load_ext autoreload\n",
    "%autoreload 2"
   ]
  },
  {
   "cell_type": "code",
   "execution_count": 4,
   "metadata": {},
   "outputs": [],
   "source": [
    "import dataloaders\n",
    "from dataloaders.dataloader import loadDataset\n",
    "import micronas\n",
    "from micronas import MicroNas, MicroNasMCU\n",
    "BASE_DATASET_FOLDER = r\"/Users/king/Github/timeseries-datasets/datasets/\""
   ]
  },
  {
   "cell_type": "code",
   "execution_count": 5,
   "metadata": {},
   "outputs": [],
   "source": [
    "# Get the data\n",
    "# train_data, vali_data, test_data = loadDataset(BASE_DATASET_FOLDER, \"ucihar\")"
   ]
  },
  {
   "cell_type": "code",
   "execution_count": 6,
   "metadata": {},
   "outputs": [],
   "source": [
    "from tqdm import tqdm\n",
    "import numpy as np\n",
    "from torch.utils.data import Dataset\n",
    "import pickle\n",
    "import torch\n",
    "import os\n",
    "from torch.utils.data import DataLoader\n",
    "from micronas.config import Config\n",
    "\n",
    "class InMemoryDataset(Dataset):\n",
    "    def __init__(self, data_x, data_y):\n",
    "        assert len(data_x) == len(data_y)\n",
    "        self.data_x = data_x\n",
    "        self.data_y = data_y\n",
    "\n",
    "    def __len__(self):\n",
    "        return len(self.data_x)\n",
    "    \n",
    "    def __getitem__(self, idx):\n",
    "        return self.data_x[idx], self.data_y[idx]\n",
    "    \n",
    "    def save(self, name):\n",
    "        if not os.path.exists(os.path.join(BASE_DATASET_FOLDER, \"pickle\")):\n",
    "            os.makedirs(os.path.join(BASE_DATASET_FOLDER, \"pickle\"))\n",
    "\n",
    "        with open(os.path.join(BASE_DATASET_FOLDER, \"pickle\", name), \"wb\") as f:\n",
    "            pickle.dump({\"data_x\": self.data_x, \"data_y\": self.data_y}, f)\n",
    "\n",
    "    @staticmethod\n",
    "    def load(name):\n",
    "        with open(os.path.join(BASE_DATASET_FOLDER, \"pickle\", name), \"rb\") as f:\n",
    "            data = pickle.load(f)\n",
    "        data_x = torch.tensor(data[\"data_x\"], dtype=torch.float32)\n",
    "        data_y = torch.tensor(data[\"data_y\"], dtype=torch.long)\n",
    "        return InMemoryDataset(data_x, data_y)\n",
    "\n",
    "def extract_data(data_set):\n",
    "    train_data_x = []\n",
    "    train_data_y = []\n",
    "    for x in tqdm(data_set):\n",
    "        train_data_x.append(x[0])\n",
    "        train_data_y.append(x[1])\n",
    "    train_data_x = np.array(train_data_x)\n",
    "    train_data_y = np.array(train_data_y)\n",
    "    return train_data_x, train_data_y\n",
    "\n",
    "\n",
    "# vali_data_x, vali_data_y = extract_data(vali_data)\n",
    "# vali_dataset = InMemoryDataset(vali_data_x, vali_data_y)\n",
    "# vali_dataset.save(\"ucihar_vali.pickle\")\n",
    "\n",
    "# train_data_x, train_data_y = extract_data(train_data)\n",
    "# train_dataset = InMemoryDataset(train_data_x, train_data_y)\n",
    "# train_dataset.save(\"ucihar_train.pickle\")\n",
    "\n",
    "vali_dataset = InMemoryDataset.load(\"ucihar_vali.pickle\")\n",
    "train_dataset = InMemoryDataset.load(\"ucihar_train.pickle\")\n"
   ]
  },
  {
   "cell_type": "code",
   "execution_count": 7,
   "metadata": {},
   "outputs": [
    {
     "name": "stdout",
     "output_type": "stream",
     "text": [
      "cpu\n"
     ]
    }
   ],
   "source": [
    "print(next(iter(vali_dataset))[0].device)"
   ]
  },
  {
   "cell_type": "code",
   "execution_count": 8,
   "metadata": {},
   "outputs": [],
   "source": [
    "# mNas = MicroNas(train_dataset, vali_dataset, vali_dataset, 6)\n",
    "# mNas.search(MicroNasMCU.NUCLEOF446RE, latency_limit=None, memory_limit=30000, search_epochs=1, compute_unit=\"cpu\")\n"
   ]
  },
  {
   "cell_type": "code",
   "execution_count": 14,
   "metadata": {},
   "outputs": [
    {
     "name": "stdout",
     "output_type": "stream",
     "text": [
      "torch.Size([128, 9])\n",
      "#Time_reduce:  3\n",
      "#Sensor_fusion:  1\n",
      "not included:  Dyn_Conv2D\n",
      "not included:  GlobalAveragePooling\n",
      "not included:  LogSoftMax\n",
      "Paralellv2_weights_keras:  None\n"
     ]
    },
    {
     "ename": "TypeError",
     "evalue": "empty_like(): argument 'input' (position 1) must be Tensor, not NoneType",
     "output_type": "error",
     "traceback": [
      "\u001b[0;31m---------------------------------------------------------------------------\u001b[0m",
      "\u001b[0;31mTypeError\u001b[0m                                 Traceback (most recent call last)",
      "Cell \u001b[0;32mIn[14], line 16\u001b[0m\n\u001b[1;32m     12\u001b[0m search_strategy \u001b[38;5;241m=\u001b[39m RandomSearchStrategy(search_space)\n\u001b[1;32m     14\u001b[0m model\u001b[38;5;241m.\u001b[39mcompile(search_space, search_strategy)\n\u001b[0;32m---> 16\u001b[0m \u001b[43mmodel\u001b[49m\u001b[38;5;241;43m.\u001b[39;49m\u001b[43mfit\u001b[49m\u001b[43m(\u001b[49m\u001b[43mMicroNasMCU\u001b[49m\u001b[38;5;241;43m.\u001b[39;49m\u001b[43mNUCLEOF446RE\u001b[49m\u001b[43m,\u001b[49m\u001b[43m \u001b[49m\u001b[43mlatency_limit\u001b[49m\u001b[38;5;241;43m=\u001b[39;49m\u001b[38;5;28;43;01mNone\u001b[39;49;00m\u001b[43m,\u001b[49m\u001b[43m \u001b[49m\u001b[43mmemory_limit\u001b[49m\u001b[38;5;241;43m=\u001b[39;49m\u001b[38;5;241;43m30000\u001b[39;49m\u001b[43m,\u001b[49m\u001b[43m \u001b[49m\u001b[43msearch_epochs\u001b[49m\u001b[38;5;241;43m=\u001b[39;49m\u001b[38;5;241;43m1\u001b[39;49m\u001b[43m,\u001b[49m\u001b[43m \u001b[49m\u001b[43mcompute_unit\u001b[49m\u001b[38;5;241;43m=\u001b[39;49m\u001b[38;5;124;43m\"\u001b[39;49m\u001b[38;5;124;43mcpu\u001b[39;49m\u001b[38;5;124;43m\"\u001b[39;49m\u001b[43m)\u001b[49m\n",
      "File \u001b[0;32m~/Github/MicroNas/micronas/main.py:60\u001b[0m, in \u001b[0;36mMicroNas.fit\u001b[0;34m(self, target_mcu, latency_limit, memory_limit, **kwargs)\u001b[0m\n\u001b[1;32m     56\u001b[0m dataset_shape \u001b[38;5;241m=\u001b[39m \u001b[38;5;28mnext\u001b[39m(\u001b[38;5;28miter\u001b[39m(train_dataloader))[\u001b[38;5;241m0\u001b[39m]\u001b[38;5;241m.\u001b[39mshape\n\u001b[1;32m     57\u001b[0m \u001b[38;5;66;03m# ts_len, num_sensors = dataset_shape[1:3]\u001b[39;00m\n\u001b[1;32m     58\u001b[0m \u001b[38;5;66;03m# self.search_net = SearchNet([ts_len, num_sensors], self.num_classes).to(Config.compute_unit)\u001b[39;00m\n\u001b[1;32m     59\u001b[0m \u001b[38;5;66;03m# searcher = ArchSearcher(self.search_net)\u001b[39;00m\n\u001b[0;32m---> 60\u001b[0m \u001b[38;5;28;43mself\u001b[39;49m\u001b[38;5;241;43m.\u001b[39;49m\u001b[43msearch_strategy\u001b[49m\u001b[38;5;241;43m.\u001b[39;49m\u001b[43msearch\u001b[49m\u001b[43m(\u001b[49m\u001b[43mtrain_dataloader\u001b[49m\u001b[43m,\u001b[49m\u001b[43m \u001b[49m\u001b[43mvali_dataloader\u001b[49m\u001b[43m,\u001b[49m\u001b[43m \u001b[49m\u001b[43mConfig\u001b[49m\u001b[38;5;241;43m.\u001b[39;49m\u001b[43msearch_epochs\u001b[49m\u001b[43m,\u001b[49m\u001b[43m \u001b[49m\u001b[43mlatency_limit\u001b[49m\u001b[43m,\u001b[49m\u001b[43m \u001b[49m\u001b[43mmemory_limit\u001b[49m\u001b[43m)\u001b[49m\n",
      "File \u001b[0;32m~/Github/MicroNas/micronas/Nas/SearchStrategy/RandomSearchStrategy.py:8\u001b[0m, in \u001b[0;36mRandomSearchStrategy.search\u001b[0;34m(self, train_dataloader, vali_dataloader, search_epochs, latency_limit, memory_limit, **kwargs)\u001b[0m\n\u001b[1;32m      7\u001b[0m \u001b[38;5;28;01mdef\u001b[39;00m \u001b[38;5;21msearch\u001b[39m(\u001b[38;5;28mself\u001b[39m, train_dataloader, vali_dataloader, search_epochs, latency_limit, memory_limit, \u001b[38;5;241m*\u001b[39m\u001b[38;5;241m*\u001b[39mkwargs):\n\u001b[0;32m----> 8\u001b[0m   keras_net \u001b[38;5;241m=\u001b[39m \u001b[38;5;28;43mself\u001b[39;49m\u001b[38;5;241;43m.\u001b[39;49m\u001b[43msearch_space\u001b[49m\u001b[38;5;241;43m.\u001b[39;49m\u001b[43mgetKeras\u001b[49m\u001b[43m(\u001b[49m\u001b[43minf_type\u001b[49m\u001b[38;5;241;43m=\u001b[39;49m\u001b[43mInferenceType\u001b[49m\u001b[38;5;241;43m.\u001b[39;49m\u001b[43mRANDOM\u001b[49m\u001b[43m)\u001b[49m\n\u001b[1;32m      9\u001b[0m   \u001b[38;5;28mprint\u001b[39m(keras_net)\n",
      "File \u001b[0;32m~/Github/MicroNas/micronas/Nas/Networks/Pytorch/SearchNet.py:93\u001b[0m, in \u001b[0;36mSearchNet.getKeras\u001b[0;34m(self, batch_size, getPruned, inf_type)\u001b[0m\n\u001b[1;32m     91\u001b[0m k_input \u001b[38;5;241m=\u001b[39m keras\u001b[38;5;241m.\u001b[39mInput([\u001b[38;5;241m*\u001b[39m\u001b[38;5;28mself\u001b[39m\u001b[38;5;241m.\u001b[39m_input_dims, \u001b[38;5;241m1\u001b[39m], batch_size\u001b[38;5;241m=\u001b[39mbatch_size)\n\u001b[1;32m     92\u001b[0m k_time_out \u001b[38;5;241m=\u001b[39m \u001b[38;5;28mself\u001b[39m\u001b[38;5;241m.\u001b[39m_time_reduce\u001b[38;5;241m.\u001b[39mgetKeras(k_input, getPruned\u001b[38;5;241m=\u001b[39mgetPruned, inf_type\u001b[38;5;241m=\u001b[39minf_type)\n\u001b[0;32m---> 93\u001b[0m k_ch_out \u001b[38;5;241m=\u001b[39m \u001b[38;5;28;43mself\u001b[39;49m\u001b[38;5;241;43m.\u001b[39;49m\u001b[43m_ch_reduce\u001b[49m\u001b[38;5;241;43m.\u001b[39;49m\u001b[43mgetKeras\u001b[49m\u001b[43m(\u001b[49m\u001b[43mk_time_out\u001b[49m\u001b[43m,\u001b[49m\u001b[43m \u001b[49m\u001b[43mgetPruned\u001b[49m\u001b[38;5;241;43m=\u001b[39;49m\u001b[43mgetPruned\u001b[49m\u001b[43m,\u001b[49m\u001b[43m \u001b[49m\u001b[43minf_type\u001b[49m\u001b[38;5;241;43m=\u001b[39;49m\u001b[43minf_type\u001b[49m\u001b[43m)\u001b[49m\n\u001b[1;32m     94\u001b[0m k_output \u001b[38;5;241m=\u001b[39m \u001b[38;5;28mself\u001b[39m\u001b[38;5;241m.\u001b[39m_cls_stack\u001b[38;5;241m.\u001b[39mgetKeras(k_ch_out, getPruned\u001b[38;5;241m=\u001b[39mgetPruned)\n\u001b[1;32m     95\u001b[0m \u001b[38;5;28;01mreturn\u001b[39;00m keras\u001b[38;5;241m.\u001b[39mModel(k_input, k_output)\n",
      "File \u001b[0;32m~/Github/MicroNas/micronas/Nas/Layers/Pytorch/Sequential.py:62\u001b[0m, in \u001b[0;36mSequential.getKeras\u001b[0;34m(self, x, getPruned, inf_type)\u001b[0m\n\u001b[1;32m     60\u001b[0m \u001b[38;5;28;01mdef\u001b[39;00m \u001b[38;5;21mgetKeras\u001b[39m(\u001b[38;5;28mself\u001b[39m, x, getPruned, inf_type\u001b[38;5;241m=\u001b[39mInferenceType\u001b[38;5;241m.\u001b[39mNORMAL):\n\u001b[1;32m     61\u001b[0m     \u001b[38;5;28;01mfor\u001b[39;00m l \u001b[38;5;129;01min\u001b[39;00m \u001b[38;5;28mself\u001b[39m\u001b[38;5;241m.\u001b[39m_layers:\n\u001b[0;32m---> 62\u001b[0m         x \u001b[38;5;241m=\u001b[39m \u001b[43ml\u001b[49m\u001b[38;5;241;43m.\u001b[39;49m\u001b[43mgetKeras\u001b[49m\u001b[43m(\u001b[49m\u001b[43mx\u001b[49m\u001b[43m,\u001b[49m\u001b[43m \u001b[49m\u001b[43mgetPruned\u001b[49m\u001b[38;5;241;43m=\u001b[39;49m\u001b[43mgetPruned\u001b[49m\u001b[43m,\u001b[49m\u001b[43m \u001b[49m\u001b[43minf_type\u001b[49m\u001b[38;5;241;43m=\u001b[39;49m\u001b[43minf_type\u001b[49m\u001b[43m)\u001b[49m\n\u001b[1;32m     63\u001b[0m     \u001b[38;5;28;01mreturn\u001b[39;00m x\n",
      "File \u001b[0;32m~/Github/MicroNas/micronas/Nas/Networks/Pytorch/SearchNet.py:230\u001b[0m, in \u001b[0;36mReduceCH.getKeras\u001b[0;34m(self, x, getPruned, inf_type)\u001b[0m\n\u001b[1;32m    226\u001b[0m     weights_ch_conv \u001b[38;5;241m=\u001b[39m weight_softmax(\u001b[38;5;28mself\u001b[39m\u001b[38;5;241m.\u001b[39m_weights_channels_convBlock, \u001b[38;5;241m1e-9\u001b[39m, gumbel\u001b[38;5;241m=\u001b[39m\u001b[38;5;28;01mFalse\u001b[39;00m)\n\u001b[1;32m    229\u001b[0m bt_out \u001b[38;5;241m=\u001b[39m \u001b[38;5;28mself\u001b[39m\u001b[38;5;241m.\u001b[39m_bottleNeck\u001b[38;5;241m.\u001b[39mgetKeras(x, getPruned, weights\u001b[38;5;241m=\u001b[39mweights_ch_bt, inf_type\u001b[38;5;241m=\u001b[39minf_type)\n\u001b[0;32m--> 230\u001b[0m conv_block_out \u001b[38;5;241m=\u001b[39m \u001b[38;5;28;43mself\u001b[39;49m\u001b[38;5;241;43m.\u001b[39;49m\u001b[43mchs\u001b[49m\u001b[38;5;241;43m.\u001b[39;49m\u001b[43mgetKeras\u001b[49m\u001b[43m(\u001b[49m\u001b[43mbt_out\u001b[49m\u001b[43m,\u001b[49m\u001b[43m \u001b[49m\u001b[43mgetPruned\u001b[49m\u001b[43m,\u001b[49m\u001b[43m \u001b[49m\u001b[43mweights\u001b[49m\u001b[38;5;241;43m=\u001b[39;49m\u001b[43mweights_ch_conv\u001b[49m\u001b[43m,\u001b[49m\u001b[43m \u001b[49m\u001b[43minf_type\u001b[49m\u001b[38;5;241;43m=\u001b[39;49m\u001b[43minf_type\u001b[49m\u001b[43m)\u001b[49m\n\u001b[1;32m    231\u001b[0m res \u001b[38;5;241m=\u001b[39m \u001b[38;5;28mself\u001b[39m\u001b[38;5;241m.\u001b[39m_res_con\u001b[38;5;241m.\u001b[39mgetKeras(x, conv_block_out, getPruned\u001b[38;5;241m=\u001b[39mgetPruned, weights\u001b[38;5;241m=\u001b[39mweights_ch_conv, inf_type\u001b[38;5;241m=\u001b[39minf_type)\n\u001b[1;32m    232\u001b[0m \u001b[38;5;28;01mif\u001b[39;00m res \u001b[38;5;129;01mis\u001b[39;00m \u001b[38;5;129;01mnot\u001b[39;00m \u001b[38;5;28;01mNone\u001b[39;00m:\n",
      "File \u001b[0;32m~/Github/MicroNas/micronas/Nas/Layers/Pytorch/ChooseNParallel.py:331\u001b[0m, in \u001b[0;36mChooseNParallel_v2.getKeras\u001b[0;34m(self, x, getPruned, weights, inf_type)\u001b[0m\n\u001b[1;32m    329\u001b[0m     \u001b[38;5;28;01mreturn\u001b[39;00m \u001b[38;5;28mself\u001b[39m\u001b[38;5;241m.\u001b[39m_getKeras_pruned(x, weights, inf_type)\n\u001b[1;32m    330\u001b[0m \u001b[38;5;28;01melse\u001b[39;00m:\n\u001b[0;32m--> 331\u001b[0m     \u001b[38;5;28;01mreturn\u001b[39;00m \u001b[38;5;28;43mself\u001b[39;49m\u001b[38;5;241;43m.\u001b[39;49m\u001b[43m_getKeras_not_pruned\u001b[49m\u001b[43m(\u001b[49m\u001b[43mx\u001b[49m\u001b[43m,\u001b[49m\u001b[43m \u001b[49m\u001b[43mweights\u001b[49m\u001b[43m,\u001b[49m\u001b[43m \u001b[49m\u001b[43minf_type\u001b[49m\u001b[43m)\u001b[49m\n",
      "File \u001b[0;32m~/Github/MicroNas/micronas/Nas/Layers/Pytorch/ChooseNParallel.py:316\u001b[0m, in \u001b[0;36mChooseNParallel_v2._getKeras_not_pruned\u001b[0;34m(self, x, weights, inf_type)\u001b[0m\n\u001b[1;32m    314\u001b[0m \u001b[38;5;28;01mdef\u001b[39;00m \u001b[38;5;21m_getKeras_not_pruned\u001b[39m(\u001b[38;5;28mself\u001b[39m, x, weights, inf_type):\n\u001b[1;32m    315\u001b[0m     \u001b[38;5;28mprint\u001b[39m(\u001b[38;5;124m\"\u001b[39m\u001b[38;5;124mParalellv2_weights_keras: \u001b[39m\u001b[38;5;124m\"\u001b[39m, weights)\n\u001b[0;32m--> 316\u001b[0m     weights_softmax \u001b[38;5;241m=\u001b[39m \u001b[43mweight_softmax\u001b[49m\u001b[43m(\u001b[49m\u001b[43mweights\u001b[49m\u001b[43m,\u001b[49m\u001b[43m \u001b[49m\u001b[38;5;241;43m1e-9\u001b[39;49m\u001b[43m)\u001b[49m\n\u001b[1;32m    317\u001b[0m     last_layer \u001b[38;5;241m=\u001b[39m \u001b[38;5;28;01mNone\u001b[39;00m\n\u001b[1;32m    318\u001b[0m     \u001b[38;5;28;01mfor\u001b[39;00m l \u001b[38;5;129;01min\u001b[39;00m \u001b[38;5;28mself\u001b[39m\u001b[38;5;241m.\u001b[39m_layers:\n",
      "File \u001b[0;32m~/Github/MicroNas/micronas/Nas/Utils.py:55\u001b[0m, in \u001b[0;36mweight_softmax\u001b[0;34m(weights, eps, hard, gumbel)\u001b[0m\n\u001b[1;32m     53\u001b[0m \u001b[38;5;28;01mdef\u001b[39;00m \u001b[38;5;21mweight_softmax\u001b[39m(weights, eps, hard\u001b[38;5;241m=\u001b[39m\u001b[38;5;28;01mFalse\u001b[39;00m, gumbel\u001b[38;5;241m=\u001b[39m\u001b[38;5;28;01mTrue\u001b[39;00m):\n\u001b[1;32m     54\u001b[0m   \u001b[38;5;28;01mif\u001b[39;00m gumbel:\n\u001b[0;32m---> 55\u001b[0m     \u001b[38;5;28;01mreturn\u001b[39;00m \u001b[43mF\u001b[49m\u001b[38;5;241;43m.\u001b[39;49m\u001b[43mgumbel_softmax\u001b[49m\u001b[43m(\u001b[49m\u001b[43mweights\u001b[49m\u001b[43m,\u001b[49m\u001b[43m \u001b[49m\u001b[43meps\u001b[49m\u001b[43m,\u001b[49m\u001b[43m \u001b[49m\u001b[43mhard\u001b[49m\u001b[38;5;241;43m=\u001b[39;49m\u001b[43mhard\u001b[49m\u001b[43m)\u001b[49m\n\u001b[1;32m     56\u001b[0m   \u001b[38;5;28;01melse\u001b[39;00m:\n\u001b[1;32m     57\u001b[0m     \u001b[38;5;28;01mreturn\u001b[39;00m F\u001b[38;5;241m.\u001b[39msoftmax(weights \u001b[38;5;241m/\u001b[39m eps)\n",
      "File \u001b[0;32m~/anaconda3/envs/micronas/lib/python3.12/site-packages/torch/nn/functional.py:1937\u001b[0m, in \u001b[0;36mgumbel_softmax\u001b[0;34m(logits, tau, hard, eps, dim)\u001b[0m\n\u001b[1;32m   1933\u001b[0m \u001b[38;5;28;01mif\u001b[39;00m eps \u001b[38;5;241m!=\u001b[39m \u001b[38;5;241m1e-10\u001b[39m:\n\u001b[1;32m   1934\u001b[0m     warnings\u001b[38;5;241m.\u001b[39mwarn(\u001b[38;5;124m\"\u001b[39m\u001b[38;5;124m`eps` parameter is deprecated and has no effect.\u001b[39m\u001b[38;5;124m\"\u001b[39m)\n\u001b[1;32m   1936\u001b[0m gumbels \u001b[38;5;241m=\u001b[39m (\n\u001b[0;32m-> 1937\u001b[0m     \u001b[38;5;241m-\u001b[39m\u001b[43mtorch\u001b[49m\u001b[38;5;241;43m.\u001b[39;49m\u001b[43mempty_like\u001b[49m\u001b[43m(\u001b[49m\u001b[43mlogits\u001b[49m\u001b[43m,\u001b[49m\u001b[43m \u001b[49m\u001b[43mmemory_format\u001b[49m\u001b[38;5;241;43m=\u001b[39;49m\u001b[43mtorch\u001b[49m\u001b[38;5;241;43m.\u001b[39;49m\u001b[43mlegacy_contiguous_format\u001b[49m\u001b[43m)\u001b[49m\u001b[38;5;241m.\u001b[39mexponential_()\u001b[38;5;241m.\u001b[39mlog()\n\u001b[1;32m   1938\u001b[0m )  \u001b[38;5;66;03m# ~Gumbel(0,1)\u001b[39;00m\n\u001b[1;32m   1939\u001b[0m gumbels \u001b[38;5;241m=\u001b[39m (logits \u001b[38;5;241m+\u001b[39m gumbels) \u001b[38;5;241m/\u001b[39m tau  \u001b[38;5;66;03m# ~Gumbel(logits,tau)\u001b[39;00m\n\u001b[1;32m   1940\u001b[0m y_soft \u001b[38;5;241m=\u001b[39m gumbels\u001b[38;5;241m.\u001b[39msoftmax(dim)\n",
      "\u001b[0;31mTypeError\u001b[0m: empty_like(): argument 'input' (position 1) must be Tensor, not NoneType"
     ]
    }
   ],
   "source": [
    "from micronas import MicroNas, MicroNasMCU\n",
    "from micronas.Nas.Networks.Pytorch.SearchNet import SearchNet\n",
    "from micronas.Nas.SearchStrategy.DnasStrategy import DNasStrategy\n",
    "from micronas.Nas.SearchStrategy.RandomSearchStrategy import RandomSearchStrategy\n",
    "\n",
    "model = MicroNas(train_dataset, vali_dataset, vali_dataset, 6)\n",
    "\n",
    "input_dims = next(iter(train_dataset))[0].shape\n",
    "print(input_dims)\n",
    "search_space = SearchNet(input_dims=input_dims, num_classes=6)\n",
    "search_strategy = DNasStrategy(search_space)\n",
    "search_strategy = RandomSearchStrategy(search_space)\n",
    "\n",
    "model.compile(search_space, search_strategy)\n",
    "\n",
    "model.fit(MicroNasMCU.NUCLEOF446RE, latency_limit=None, memory_limit=30000, search_epochs=1, compute_unit=\"cpu\")"
   ]
  }
 ],
 "metadata": {
  "kernelspec": {
   "display_name": "micronas",
   "language": "python",
   "name": "python3"
  },
  "language_info": {
   "codemirror_mode": {
    "name": "ipython",
    "version": 3
   },
   "file_extension": ".py",
   "mimetype": "text/x-python",
   "name": "python",
   "nbconvert_exporter": "python",
   "pygments_lexer": "ipython3",
   "version": "3.12.4"
  }
 },
 "nbformat": 4,
 "nbformat_minor": 2
}
