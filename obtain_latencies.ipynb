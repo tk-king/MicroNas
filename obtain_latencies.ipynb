{
 "cells": [
  {
   "cell_type": "code",
   "execution_count": 1,
   "metadata": {},
   "outputs": [
    {
     "name": "stdout",
     "output_type": "stream",
     "text": [
      "Profiler set for device MicroNasMCU.NiclaSense, NiclaSense\n",
      "Loading file:  records.json\n",
      "lookUp/NiclaSense/20240723-151527/records.json\n",
      "Loading file:  records.json\n",
      "lookUp/NiclaSense/20230724-092310/records.json\n",
      "Loading file:  records.json\n",
      "lookUp/NiclaSense/20230803-110043/records.json\n",
      "Loading file:  records.json\n",
      "lookUp/NiclaSense/20230803-111435/records.json\n",
      "Loading file:  records.json\n",
      "lookUp/NiclaSense/20230803-111339/records.json\n",
      "Loading file:  records.json\n",
      "lookUp/NiclaSense/20230721-152119/records.json\n",
      "Loading file:  records.json\n",
      "lookUp/NiclaSense/20230724-081442/records.json\n",
      "Loading file:  records.json\n",
      "lookUp/NiclaSense/20230725-081857/records.json\n",
      "Loading file:  records.json\n",
      "lookUp/NiclaSense/20230721-141942/records.json\n",
      "Loading file:  records.json\n",
      "lookUp/NiclaSense/20240723-112715/records.json\n",
      "Loading file:  records.json\n",
      "lookUp/NiclaSense/20230724-110041/records.json\n",
      "Loading file:  records.json\n",
      "lookUp/NiclaSense/20240723-143603/records.json\n",
      "['lookUp/NiclaSense/20240723-151527/records.json', 'lookUp/NiclaSense/20230724-092310/records.json', 'lookUp/NiclaSense/20230803-110043/records.json', 'lookUp/NiclaSense/20230803-111435/records.json', 'lookUp/NiclaSense/20230803-111339/records.json', 'lookUp/NiclaSense/20230721-152119/records.json', 'lookUp/NiclaSense/20230724-081442/records.json', 'lookUp/NiclaSense/20230725-081857/records.json', 'lookUp/NiclaSense/20230721-141942/records.json', 'lookUp/NiclaSense/20240723-112715/records.json', 'lookUp/NiclaSense/20230724-110041/records.json', 'lookUp/NiclaSense/20240723-143603/records.json']\n",
      "Loaded LatencyPredictor with 3922 samples\n"
     ]
    }
   ],
   "source": [
    "from micronas.Profiler.LatMemProfiler import loadConfigs, _lookUp\n",
    "from micronas.config import Config, MicroNasMCU\n",
    "from micronas.Nas.Networks.Pytorch.SearchNet import SearchNet\n",
    "from micronas.Profiler.LatMemProfiler import set_ignore_latency\n",
    "from micronas.Nas.Layers.Keras.ProfiledOp import profileNetwork"
   ]
  },
  {
   "cell_type": "code",
   "execution_count": 2,
   "metadata": {},
   "outputs": [
    {
     "name": "stderr",
     "output_type": "stream",
     "text": [
      "/Users/king/Github/MicroNas/micronas/Nas/Layers/Pytorch/ChooseNParallel.py:101: UserWarning: The use of `x.T` on tensors of dimension other than 2 to reverse their shape is deprecated and it will throw an error in a future release. Consider `x.mT` to transpose batches of matrices or `x.permute(*torch.arange(x.ndim - 1, -1, -1))` to reverse the dimensions of a tensor. (Triggered internally at /Users/runner/work/pytorch/pytorch/pytorch/aten/src/ATen/native/TensorShape.cpp:3679.)\n",
      "  input_mem = input_list @ last_ch_weights_softmax.T\n",
      "/Users/king/Github/MicroNas/micronas/Nas/Utils.py:58: UserWarning: Implicit dimension choice for softmax has been deprecated. Change the call to include dim=X as an argument.\n",
      "  res = F.softmax(weights / eps)\n"
     ]
    },
    {
     "name": "stdout",
     "output_type": "stream",
     "text": [
      "Saved 2536 operations for profiling\n"
     ]
    }
   ],
   "source": [
    "mcu = MicroNasMCU.NiclaSense\n",
    "dataset = \"skodar\"\n",
    "port = \"/dev/cu.usbmodem0D0A24802\"\n",
    "\n",
    "TS_LEN = 64\n",
    "NUM_SENSORS = 30\n",
    "NUM_CLASSES = 10\n",
    "\n",
    "set_ignore_latency(True)\n",
    "\n",
    "search_net = SearchNet()\n",
    "search_net.compile(TS_LEN, NUM_SENSORS, NUM_CLASSES)\n",
    "\n",
    "profileNetwork(search_net, \"profilings.json\", (1, TS_LEN, NUM_SENSORS, 1))"
   ]
  },
  {
   "cell_type": "code",
   "execution_count": 3,
   "metadata": {},
   "outputs": [
    {
     "name": "stdout",
     "output_type": "stream",
     "text": [
      "Loading configs from:  profilings.json\n",
      "MCU:  MicroNasMCU.NiclaSense\n",
      "Profiler set for device MicroNasMCU.NiclaSense, NiclaSense\n",
      "Loading file:  records.json\n",
      "lookUp/NiclaSense/20240723-151527/records.json\n",
      "Loading file:  records.json\n",
      "lookUp/NiclaSense/20230724-092310/records.json\n",
      "Loading file:  records.json\n",
      "lookUp/NiclaSense/20230803-110043/records.json\n",
      "Loading file:  records.json\n",
      "lookUp/NiclaSense/20230803-111435/records.json\n",
      "Loading file:  records.json\n",
      "lookUp/NiclaSense/20230803-111339/records.json\n",
      "Loading file:  records.json\n",
      "lookUp/NiclaSense/20230721-152119/records.json\n",
      "Loading file:  records.json\n",
      "lookUp/NiclaSense/20230724-081442/records.json\n",
      "Loading file:  records.json\n",
      "lookUp/NiclaSense/20230725-081857/records.json\n",
      "Loading file:  records.json\n",
      "lookUp/NiclaSense/20230721-141942/records.json\n",
      "Loading file:  records.json\n",
      "lookUp/NiclaSense/20240723-112715/records.json\n",
      "Loading file:  records.json\n",
      "lookUp/NiclaSense/20230724-110041/records.json\n",
      "Loading file:  records.json\n",
      "lookUp/NiclaSense/20240723-143603/records.json\n",
      "['lookUp/NiclaSense/20240723-151527/records.json', 'lookUp/NiclaSense/20230724-092310/records.json', 'lookUp/NiclaSense/20230803-110043/records.json', 'lookUp/NiclaSense/20230803-111435/records.json', 'lookUp/NiclaSense/20230803-111339/records.json', 'lookUp/NiclaSense/20230721-152119/records.json', 'lookUp/NiclaSense/20230724-081442/records.json', 'lookUp/NiclaSense/20230725-081857/records.json', 'lookUp/NiclaSense/20230721-141942/records.json', 'lookUp/NiclaSense/20240723-112715/records.json', 'lookUp/NiclaSense/20230724-110041/records.json', 'lookUp/NiclaSense/20240723-143603/records.json']\n",
      "Loaded LatencyPredictor with 3922 samples\n",
      "Number of configs:  2536\n"
     ]
    },
    {
     "name": "stderr",
     "output_type": "stream",
     "text": [
      "100%|██████████| 2536/2536 [00:00<00:00, 51303.01it/s]\n"
     ]
    }
   ],
   "source": [
    "loadConfigs(\"profilings.json\", mcu, port)"
   ]
  }
 ],
 "metadata": {
  "kernelspec": {
   "display_name": "micronas",
   "language": "python",
   "name": "python3"
  },
  "language_info": {
   "codemirror_mode": {
    "name": "ipython",
    "version": 3
   },
   "file_extension": ".py",
   "mimetype": "text/x-python",
   "name": "python",
   "nbconvert_exporter": "python",
   "pygments_lexer": "ipython3",
   "version": "3.12.4"
  }
 },
 "nbformat": 4,
 "nbformat_minor": 2
}
