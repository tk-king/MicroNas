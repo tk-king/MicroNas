{
 "cells": [
  {
   "cell_type": "code",
   "execution_count": 1,
   "metadata": {},
   "outputs": [
    {
     "name": "stderr",
     "output_type": "stream",
     "text": [
      "/Users/king/Github/MicroNas/micronas/Recorder/recorder.py:173: SyntaxWarning: invalid escape sequence '\\('\n",
      "  memory = re.findall(\"\\(.*?\\)\", line)\n"
     ]
    },
    {
     "name": "stdout",
     "output_type": "stream",
     "text": [
      "Profiler set for device MicroNasMCU.NiclaSense, NiclaSense\n",
      "Loading file:  records.json\n",
      "lookUp/NiclaSense/20230724-092310/records.json\n",
      "Loading file:  records.json\n",
      "lookUp/NiclaSense/20230803-110043/records.json\n",
      "Loading file:  records.json\n",
      "lookUp/NiclaSense/20230803-111435/records.json\n",
      "Loading file:  records.json\n",
      "lookUp/NiclaSense/20230803-111339/records.json\n",
      "Loading file:  records.json\n",
      "lookUp/NiclaSense/20230721-152119/records.json\n",
      "Loading file:  records.json\n",
      "lookUp/NiclaSense/20230724-081442/records.json\n",
      "Loading file:  records.json\n",
      "lookUp/NiclaSense/20230725-081857/records.json\n",
      "Loading file:  records.json\n",
      "lookUp/NiclaSense/20230721-141942/records.json\n",
      "Loading file:  records.json\n",
      "lookUp/NiclaSense/20230724-110041/records.json\n",
      "['lookUp/NiclaSense/20230724-092310/records.json', 'lookUp/NiclaSense/20230803-110043/records.json', 'lookUp/NiclaSense/20230803-111435/records.json', 'lookUp/NiclaSense/20230803-111339/records.json', 'lookUp/NiclaSense/20230721-152119/records.json', 'lookUp/NiclaSense/20230724-081442/records.json', 'lookUp/NiclaSense/20230725-081857/records.json', 'lookUp/NiclaSense/20230721-141942/records.json', 'lookUp/NiclaSense/20230724-110041/records.json']\n",
      "Loaded LatencyPredictor with 1446 samples\n"
     ]
    }
   ],
   "source": [
    "from micronas.Profiler.LatMemProfiler import loadConfigs, _lookUp\n",
    "from micronas.config import Config, MicroNasMCU\n",
    "from micronas.Nas.Networks.Pytorch.SearchNet import SearchNet\n",
    "from micronas.Profiler.LatMemProfiler import set_ignore_latency\n",
    "from micronas.Nas.Layers.Keras.ProfiledOp import profileNetwork"
   ]
  },
  {
   "cell_type": "code",
   "execution_count": 2,
   "metadata": {},
   "outputs": [
    {
     "name": "stderr",
     "output_type": "stream",
     "text": [
      "/Users/king/Github/MicroNas/micronas/Nas/Layers/Pytorch/ChooseNParallel.py:101: UserWarning: The use of `x.T` on tensors of dimension other than 2 to reverse their shape is deprecated and it will throw an error in a future release. Consider `x.mT` to transpose batches of matrices or `x.permute(*torch.arange(x.ndim - 1, -1, -1))` to reverse the dimensions of a tensor. (Triggered internally at /Users/runner/work/pytorch/pytorch/pytorch/aten/src/ATen/native/TensorShape.cpp:3679.)\n",
      "  input_mem = input_list @ last_ch_weights_softmax.T\n",
      "/Users/king/Github/MicroNas/micronas/Nas/Utils.py:58: UserWarning: Implicit dimension choice for softmax has been deprecated. Change the call to include dim=X as an argument.\n",
      "  res = F.softmax(weights / eps)\n"
     ]
    },
    {
     "name": "stdout",
     "output_type": "stream",
     "text": [
      "Saved 2536 operations for profiling\n"
     ]
    }
   ],
   "source": [
    "mcu = MicroNasMCU.NiclaSense\n",
    "dataset = \"skodar\"\n",
    "port = \"/dev/cu.usbmodem0D0A24802\"\n",
    "\n",
    "TS_LEN = 64\n",
    "NUM_SENSORS = 30\n",
    "NUM_CLASSES = 10\n",
    "\n",
    "set_ignore_latency(True)\n",
    "\n",
    "search_net = SearchNet()\n",
    "search_net.compile(TS_LEN, NUM_SENSORS, NUM_CLASSES)\n",
    "\n",
    "profileNetwork(search_net, \"profilings.json\", (1, TS_LEN, NUM_SENSORS, 1))"
   ]
  },
  {
   "cell_type": "code",
   "execution_count": 3,
   "metadata": {},
   "outputs": [
    {
     "name": "stdout",
     "output_type": "stream",
     "text": [
      "Loading configs from:  profilings.json\n",
      "MCU:  MicroNasMCU.NiclaSense\n",
      "Profiler set for device MicroNasMCU.NiclaSense, NiclaSense\n",
      "Loading file:  records.json\n",
      "lookUp/NiclaSense/20230724-092310/records.json\n",
      "Loading file:  records.json\n",
      "lookUp/NiclaSense/20230803-110043/records.json\n",
      "Loading file:  records.json\n",
      "lookUp/NiclaSense/20230803-111435/records.json\n",
      "Loading file:  records.json\n",
      "lookUp/NiclaSense/20230803-111339/records.json\n",
      "Loading file:  records.json\n",
      "lookUp/NiclaSense/20230721-152119/records.json\n",
      "Loading file:  records.json\n",
      "lookUp/NiclaSense/20230724-081442/records.json\n",
      "Loading file:  records.json\n",
      "lookUp/NiclaSense/20230725-081857/records.json\n",
      "Loading file:  records.json\n",
      "lookUp/NiclaSense/20230721-141942/records.json\n",
      "Loading file:  records.json\n",
      "lookUp/NiclaSense/20230724-110041/records.json\n",
      "['lookUp/NiclaSense/20230724-092310/records.json', 'lookUp/NiclaSense/20230803-110043/records.json', 'lookUp/NiclaSense/20230803-111435/records.json', 'lookUp/NiclaSense/20230803-111339/records.json', 'lookUp/NiclaSense/20230721-152119/records.json', 'lookUp/NiclaSense/20230724-081442/records.json', 'lookUp/NiclaSense/20230725-081857/records.json', 'lookUp/NiclaSense/20230721-141942/records.json', 'lookUp/NiclaSense/20230724-110041/records.json']\n",
      "Loaded LatencyPredictor with 1446 samples\n",
      "Number of configs:  2536\n"
     ]
    },
    {
     "name": "stderr",
     "output_type": "stream",
     "text": [
      "  0%|          | 0/2536 [00:00<?, ?it/s]"
     ]
    },
    {
     "name": "stdout",
     "output_type": "stream",
     "text": [
      "name: conv2d, input: [1, 64, 30, 1] output: [1, 32, 30, 1] filter: [3, 1] padding: same strides: [2, 1] activation: relu\n",
      "INFO:tensorflow:Assets written to: /var/folders/c7/01xzhz690mj0sss9z1vdfwqc0000gn/T/tmpysjsyv4z/assets\n"
     ]
    },
    {
     "name": "stderr",
     "output_type": "stream",
     "text": [
      "INFO:tensorflow:Assets written to: /var/folders/c7/01xzhz690mj0sss9z1vdfwqc0000gn/T/tmpysjsyv4z/assets\n"
     ]
    },
    {
     "name": "stdout",
     "output_type": "stream",
     "text": [
      "Saved artifact at '/var/folders/c7/01xzhz690mj0sss9z1vdfwqc0000gn/T/tmpysjsyv4z'. The following endpoints are available:\n",
      "\n",
      "* Endpoint 'serve'\n",
      "  args_0 (POSITIONAL_ONLY): TensorSpec(shape=(1, 64, 30, 1), dtype=tf.float32, name='keras_tensor_160')\n",
      "Output Type:\n",
      "  TensorSpec(shape=(1, 32, 30, 1), dtype=tf.float32, name=None)\n",
      "Captures:\n",
      "  12536121488: TensorSpec(shape=(), dtype=tf.resource, name=None)\n",
      "  12536123216: TensorSpec(shape=(), dtype=tf.resource, name=None)\n"
     ]
    },
    {
     "name": "stderr",
     "output_type": "stream",
     "text": [
      "/Users/king/anaconda3/envs/micronas/lib/python3.12/site-packages/tensorflow/lite/python/convert.py:983: UserWarning: Statistics for quantized inputs were expected, but not specified; continuing anyway.\n",
      "  warnings.warn(\n",
      "WARNING: All log messages before absl::InitializeLog() is called are written to STDERR\n",
      "W0000 00:00:1721726835.424792  493007 tf_tfl_flatbuffer_helpers.cc:392] Ignored output_format.\n",
      "W0000 00:00:1721726835.424820  493007 tf_tfl_flatbuffer_helpers.cc:395] Ignored drop_control_dependency.\n",
      "2024-07-23 11:27:15.425262: I tensorflow/cc/saved_model/reader.cc:83] Reading SavedModel from: /var/folders/c7/01xzhz690mj0sss9z1vdfwqc0000gn/T/tmpysjsyv4z\n",
      "2024-07-23 11:27:15.425518: I tensorflow/cc/saved_model/reader.cc:52] Reading meta graph with tags { serve }\n",
      "2024-07-23 11:27:15.425523: I tensorflow/cc/saved_model/reader.cc:147] Reading SavedModel debug info (if present) from: /var/folders/c7/01xzhz690mj0sss9z1vdfwqc0000gn/T/tmpysjsyv4z\n",
      "2024-07-23 11:27:15.427551: I tensorflow/compiler/mlir/mlir_graph_optimization_pass.cc:388] MLIR V1 optimization pass is not enabled\n",
      "2024-07-23 11:27:15.427804: I tensorflow/cc/saved_model/loader.cc:236] Restoring SavedModel bundle.\n",
      "2024-07-23 11:27:15.438479: I tensorflow/cc/saved_model/loader.cc:220] Running initialization op on SavedModel bundle at path: /var/folders/c7/01xzhz690mj0sss9z1vdfwqc0000gn/T/tmpysjsyv4z\n",
      "2024-07-23 11:27:15.442721: I tensorflow/cc/saved_model/loader.cc:462] SavedModel load for tags { serve }; Status: success: OK. Took 17461 microseconds.\n",
      "2024-07-23 11:27:15.448533: I tensorflow/compiler/mlir/tensorflow/utils/dump_mlir_util.cc:268] disabling MLIR crash reproducer, set env var `MLIR_CRASH_REPRODUCER_DIRECTORY` to enable.\n",
      "2024-07-23 11:27:15.463622: I tensorflow/compiler/mlir/lite/flatbuffer_export.cc:3531] Estimated count of arithmetic ops: 6720  ops, equivalently 3360  MACs\n",
      "fully_quantize: 0, inference_type: 6, input_inference_type: INT8, output_inference_type: INT8\n",
      "2024-07-23 11:27:15.470990: I tensorflow/compiler/mlir/lite/flatbuffer_export.cc:3531] Estimated count of arithmetic ops: 6720  ops, equivalently 3360  MACs\n"
     ]
    },
    {
     "name": "stdout",
     "output_type": "stream",
     "text": [
      "/Users/king/Github/MicroNas\n",
      "\n"
     ]
    },
    {
     "name": "stderr",
     "output_type": "stream",
     "text": [
      "src/main.cpp: In function 'void setup()':\n",
      "src/main.cpp:41:9: warning: unused variable 'input' [-Wunused-variable]\n",
      "   float input[] = {3.14};\n",
      "         ^~~~~\n",
      "xPack OpenOCD x86_64 Open On-Chip Debugger 0.11.0+dev (2021-10-17-00:18)\n",
      "Licensed under GNU GPL v2\n",
      "For bug reports, read\n",
      "\thttp://openocd.org/doc/doxygen/bugs.html\n",
      "debug_level: 1\n",
      "\n",
      "Warn : Transport \"swd\" was already selected\n",
      "swd\n",
      "target halted due to debug-request, current mode: Thread \n",
      "xPSR: 0x01000000 pc: 0x00006e48 msp: 0x20010000\n",
      "** Programming Started **\n",
      "Warn : Adding extra erase range, 0x00031ba8 .. 0x00031fff\n",
      "** Programming Finished **\n",
      "** Verify Started **\n",
      "** Verified OK **\n",
      "** Resetting Target **\n",
      "shutdown command invoked\n",
      "  0%|          | 1/2536 [00:28<20:02:34, 28.46s/it]"
     ]
    },
    {
     "name": "stdout",
     "output_type": "stream",
     "text": [
      "NOERROR\n",
      "t_arr:  6\n",
      "name: conv2d, input: [1, 64, 30, 1] output: [1, 32, 30, 2] filter: [3, 1] padding: same strides: [2, 1] activation: relu\n",
      "INFO:tensorflow:Assets written to: /var/folders/c7/01xzhz690mj0sss9z1vdfwqc0000gn/T/tmpj5hn_h4n/assets\n"
     ]
    },
    {
     "name": "stderr",
     "output_type": "stream",
     "text": [
      "INFO:tensorflow:Assets written to: /var/folders/c7/01xzhz690mj0sss9z1vdfwqc0000gn/T/tmpj5hn_h4n/assets\n"
     ]
    },
    {
     "name": "stdout",
     "output_type": "stream",
     "text": [
      "Saved artifact at '/var/folders/c7/01xzhz690mj0sss9z1vdfwqc0000gn/T/tmpj5hn_h4n'. The following endpoints are available:\n",
      "\n",
      "* Endpoint 'serve'\n",
      "  args_0 (POSITIONAL_ONLY): TensorSpec(shape=(1, 64, 30, 1), dtype=tf.float32, name='keras_tensor_162')\n",
      "Output Type:\n",
      "  TensorSpec(shape=(1, 32, 30, 2), dtype=tf.float32, name=None)\n",
      "Captures:\n",
      "  12536125904: TensorSpec(shape=(), dtype=tf.resource, name=None)\n",
      "  12536131088: TensorSpec(shape=(), dtype=tf.resource, name=None)\n",
      "/Users/king/Github/MicroNas\n",
      "\n"
     ]
    },
    {
     "name": "stderr",
     "output_type": "stream",
     "text": [
      "/Users/king/anaconda3/envs/micronas/lib/python3.12/site-packages/tensorflow/lite/python/convert.py:983: UserWarning: Statistics for quantized inputs were expected, but not specified; continuing anyway.\n",
      "  warnings.warn(\n",
      "W0000 00:00:1721726863.879466  493007 tf_tfl_flatbuffer_helpers.cc:392] Ignored output_format.\n",
      "W0000 00:00:1721726863.879475  493007 tf_tfl_flatbuffer_helpers.cc:395] Ignored drop_control_dependency.\n",
      "2024-07-23 11:27:43.879604: I tensorflow/cc/saved_model/reader.cc:83] Reading SavedModel from: /var/folders/c7/01xzhz690mj0sss9z1vdfwqc0000gn/T/tmpj5hn_h4n\n",
      "2024-07-23 11:27:43.879869: I tensorflow/cc/saved_model/reader.cc:52] Reading meta graph with tags { serve }\n",
      "2024-07-23 11:27:43.879874: I tensorflow/cc/saved_model/reader.cc:147] Reading SavedModel debug info (if present) from: /var/folders/c7/01xzhz690mj0sss9z1vdfwqc0000gn/T/tmpj5hn_h4n\n",
      "2024-07-23 11:27:43.881842: I tensorflow/cc/saved_model/loader.cc:236] Restoring SavedModel bundle.\n",
      "2024-07-23 11:27:43.891314: I tensorflow/cc/saved_model/loader.cc:220] Running initialization op on SavedModel bundle at path: /var/folders/c7/01xzhz690mj0sss9z1vdfwqc0000gn/T/tmpj5hn_h4n\n",
      "2024-07-23 11:27:43.894926: I tensorflow/cc/saved_model/loader.cc:462] SavedModel load for tags { serve }; Status: success: OK. Took 15322 microseconds.\n",
      "2024-07-23 11:27:43.916627: I tensorflow/compiler/mlir/lite/flatbuffer_export.cc:3531] Estimated count of arithmetic ops: 0.013 M  ops, equivalently 0.007 M  MACs\n",
      "fully_quantize: 0, inference_type: 6, input_inference_type: INT8, output_inference_type: INT8\n",
      "2024-07-23 11:27:43.922034: I tensorflow/compiler/mlir/lite/flatbuffer_export.cc:3531] Estimated count of arithmetic ops: 0.013 M  ops, equivalently 0.007 M  MACs\n",
      "src/main.cpp: In function 'void setup()':\n",
      "src/main.cpp:41:9: warning: unused variable 'input' [-Wunused-variable]\n",
      "   float input[] = {3.14};\n",
      "         ^~~~~\n",
      "xPack OpenOCD x86_64 Open On-Chip Debugger 0.11.0+dev (2021-10-17-00:18)\n",
      "Licensed under GNU GPL v2\n",
      "For bug reports, read\n",
      "\thttp://openocd.org/doc/doxygen/bugs.html\n",
      "debug_level: 1\n",
      "\n",
      "Warn : Transport \"swd\" was already selected\n",
      "swd\n",
      "target halted due to debug-request, current mode: Thread \n",
      "xPSR: 0x01000000 pc: 0x00006e48 msp: 0x20010000\n",
      "** Programming Started **\n",
      "Warn : Adding extra erase range, 0x00031bc8 .. 0x00031fff\n",
      "** Programming Finished **\n",
      "** Verify Started **\n",
      "** Verified OK **\n",
      "** Resetting Target **\n",
      "shutdown command invoked\n",
      "  0%|          | 2/2536 [00:50<17:26:39, 24.78s/it]"
     ]
    },
    {
     "name": "stdout",
     "output_type": "stream",
     "text": [
      "NOERROR\n",
      "t_arr:  6\n",
      "name: conv2d, input: [1, 64, 30, 1] output: [1, 32, 30, 3] filter: [3, 1] padding: same strides: [2, 1] activation: relu\n",
      "INFO:tensorflow:Assets written to: /var/folders/c7/01xzhz690mj0sss9z1vdfwqc0000gn/T/tmpihl8r8mk/assets\n"
     ]
    },
    {
     "name": "stderr",
     "output_type": "stream",
     "text": [
      "INFO:tensorflow:Assets written to: /var/folders/c7/01xzhz690mj0sss9z1vdfwqc0000gn/T/tmpihl8r8mk/assets\n"
     ]
    },
    {
     "name": "stdout",
     "output_type": "stream",
     "text": [
      "Saved artifact at '/var/folders/c7/01xzhz690mj0sss9z1vdfwqc0000gn/T/tmpihl8r8mk'. The following endpoints are available:\n",
      "\n",
      "* Endpoint 'serve'\n",
      "  args_0 (POSITIONAL_ONLY): TensorSpec(shape=(1, 64, 30, 1), dtype=tf.float32, name='keras_tensor_164')\n",
      "Output Type:\n",
      "  TensorSpec(shape=(1, 32, 30, 3), dtype=tf.float32, name=None)\n",
      "Captures:\n",
      "  12536135312: TensorSpec(shape=(), dtype=tf.resource, name=None)\n",
      "  12536134352: TensorSpec(shape=(), dtype=tf.resource, name=None)\n",
      "/Users/king/Github/MicroNas\n",
      "\n"
     ]
    },
    {
     "name": "stderr",
     "output_type": "stream",
     "text": [
      "/Users/king/anaconda3/envs/micronas/lib/python3.12/site-packages/tensorflow/lite/python/convert.py:983: UserWarning: Statistics for quantized inputs were expected, but not specified; continuing anyway.\n",
      "  warnings.warn(\n",
      "W0000 00:00:1721726886.084093  493007 tf_tfl_flatbuffer_helpers.cc:392] Ignored output_format.\n",
      "W0000 00:00:1721726886.084105  493007 tf_tfl_flatbuffer_helpers.cc:395] Ignored drop_control_dependency.\n",
      "2024-07-23 11:28:06.084265: I tensorflow/cc/saved_model/reader.cc:83] Reading SavedModel from: /var/folders/c7/01xzhz690mj0sss9z1vdfwqc0000gn/T/tmpihl8r8mk\n",
      "2024-07-23 11:28:06.084513: I tensorflow/cc/saved_model/reader.cc:52] Reading meta graph with tags { serve }\n",
      "2024-07-23 11:28:06.084520: I tensorflow/cc/saved_model/reader.cc:147] Reading SavedModel debug info (if present) from: /var/folders/c7/01xzhz690mj0sss9z1vdfwqc0000gn/T/tmpihl8r8mk\n",
      "2024-07-23 11:28:06.086209: I tensorflow/cc/saved_model/loader.cc:236] Restoring SavedModel bundle.\n",
      "2024-07-23 11:28:06.095900: I tensorflow/cc/saved_model/loader.cc:220] Running initialization op on SavedModel bundle at path: /var/folders/c7/01xzhz690mj0sss9z1vdfwqc0000gn/T/tmpihl8r8mk\n",
      "2024-07-23 11:28:06.099594: I tensorflow/cc/saved_model/loader.cc:462] SavedModel load for tags { serve }; Status: success: OK. Took 15329 microseconds.\n",
      "2024-07-23 11:28:06.119032: I tensorflow/compiler/mlir/lite/flatbuffer_export.cc:3531] Estimated count of arithmetic ops: 0.020 M  ops, equivalently 0.010 M  MACs\n",
      "fully_quantize: 0, inference_type: 6, input_inference_type: INT8, output_inference_type: INT8\n",
      "2024-07-23 11:28:06.126455: I tensorflow/compiler/mlir/lite/flatbuffer_export.cc:3531] Estimated count of arithmetic ops: 0.020 M  ops, equivalently 0.010 M  MACs\n",
      "src/main.cpp: In function 'void setup()':\n",
      "src/main.cpp:41:9: warning: unused variable 'input' [-Wunused-variable]\n",
      "   float input[] = {3.14};\n",
      "         ^~~~~\n",
      "xPack OpenOCD x86_64 Open On-Chip Debugger 0.11.0+dev (2021-10-17-00:18)\n",
      "Licensed under GNU GPL v2\n",
      "For bug reports, read\n",
      "\thttp://openocd.org/doc/doxygen/bugs.html\n",
      "debug_level: 1\n",
      "\n",
      "Warn : Transport \"swd\" was already selected\n",
      "swd\n",
      "target halted due to debug-request, current mode: Thread \n",
      "xPSR: 0x01000000 pc: 0x00006e48 msp: 0x20010000\n",
      "** Programming Started **\n",
      "Warn : Adding extra erase range, 0x00031be0 .. 0x00031fff\n"
     ]
    }
   ],
   "source": [
    "loadConfigs(\"profilings.json\", mcu, port)"
   ]
  }
 ],
 "metadata": {
  "kernelspec": {
   "display_name": "micronas",
   "language": "python",
   "name": "python3"
  },
  "language_info": {
   "codemirror_mode": {
    "name": "ipython",
    "version": 3
   },
   "file_extension": ".py",
   "mimetype": "text/x-python",
   "name": "python",
   "nbconvert_exporter": "python",
   "pygments_lexer": "ipython3",
   "version": "3.12.4"
  }
 },
 "nbformat": 4,
 "nbformat_minor": 2
}
